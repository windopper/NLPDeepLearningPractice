{
  "nbformat": 4,
  "nbformat_minor": 0,
  "metadata": {
    "colab": {
      "name": "keras_functional_api.ipynb",
      "provenance": [],
      "authorship_tag": "ABX9TyOd2P8tYK/gAmNeSeqqU55y",
      "include_colab_link": true
    },
    "kernelspec": {
      "name": "python3",
      "display_name": "Python 3"
    },
    "language_info": {
      "name": "python"
    }
  },
  "cells": [
    {
      "cell_type": "markdown",
      "metadata": {
        "id": "view-in-github",
        "colab_type": "text"
      },
      "source": [
        "<a href=\"https://colab.research.google.com/github/windopper/NerualNetworkPracticeInJupyter/blob/main/DeepLearning/keras_functional_api.ipynb\" target=\"_parent\"><img src=\"https://colab.research.google.com/assets/colab-badge.svg\" alt=\"Open In Colab\"/></a>"
      ]
    },
    {
      "cell_type": "markdown",
      "source": [
        "# 케라스의 함수형 API(Keras Functional API)\n",
        "\n",
        "더욱 복잡한 모델을 생성할 수 있는 방식"
      ],
      "metadata": {
        "id": "2vGJEGwq8yOg"
      }
    },
    {
      "cell_type": "markdown",
      "source": [
        "# Sequential API 로 만든 모델"
      ],
      "metadata": {
        "id": "SdDke9Vf8484"
      }
    },
    {
      "cell_type": "code",
      "source": [
        "from tensorflow.keras.models import Sequential\n",
        "from tensorflow.keras.layers import Dense\n",
        "\n",
        "model = Sequential()\n",
        "model.add(Dense(3, input_dim=4, activation='softmax'))"
      ],
      "metadata": {
        "id": "d_Ex8Mk084vk"
      },
      "execution_count": 1,
      "outputs": []
    },
    {
      "cell_type": "markdown",
      "source": [
        "# Functional API로 만든 모델\n",
        "\n",
        "1) 전결합 피드 포워드 연결망 (Fully-connected FFNN)"
      ],
      "metadata": {
        "id": "QxudZ2iv9FB9"
      }
    },
    {
      "cell_type": "code",
      "execution_count": 2,
      "metadata": {
        "id": "FfU1lK6G8toS"
      },
      "outputs": [],
      "source": [
        "from tensorflow.keras.layers import Dense, Input\n",
        "from tensorflow.keras.models import Model\n",
        "\n",
        "inputs = Input(shape=(10,))"
      ]
    },
    {
      "cell_type": "markdown",
      "source": [
        "10개의 입력을 받는 입력층을 보여줌\n"
      ],
      "metadata": {
        "id": "U6n_aVyL9WE0"
      }
    },
    {
      "cell_type": "code",
      "source": [
        "hidden1 = Dense(64, activation='relu')(inputs) # <- 추가\n",
        "hidden2 = Dense(64, activation='relu')(hidden1) # <- 추가\n",
        "output = Dense(1, activation='sigmoid')(hidden2) # <- 추가"
      ],
      "metadata": {
        "id": "HYuOmYEy9Xmi"
      },
      "execution_count": 3,
      "outputs": []
    },
    {
      "cell_type": "markdown",
      "source": [
        "모델을 하나로 구성하면"
      ],
      "metadata": {
        "id": "6-EKzWo19qIA"
      }
    },
    {
      "cell_type": "code",
      "source": [
        "model = Model(inputs=inputs, outputs=output)"
      ],
      "metadata": {
        "id": "yN04hvZe9rjG"
      },
      "execution_count": 5,
      "outputs": []
    },
    {
      "cell_type": "markdown",
      "source": [
        "은닉층과 출력층의 변수를 전부 통일해도 가능"
      ],
      "metadata": {
        "id": "TSR8Irgy97l-"
      }
    },
    {
      "cell_type": "code",
      "source": [
        "inputs = Input(shape=(10,))\n",
        "x = Dense(8, activation='relu')(inputs)\n",
        "x = Dense(4, activation='relu')(x)\n",
        "x = Dense(1, activation='linear')(x)\n",
        "model = Model(inputs, x)"
      ],
      "metadata": {
        "id": "wiO8UYgL9utu"
      },
      "execution_count": 6,
      "outputs": []
    },
    {
      "cell_type": "markdown",
      "source": [
        "2) 선형 회귀(Linear Regression)"
      ],
      "metadata": {
        "id": "yEbg89G--LxP"
      }
    },
    {
      "cell_type": "code",
      "source": [
        "from tensorflow.keras.layers import Input, Dense\n",
        "from tensorflow.keras import optimizers\n",
        "from tensorflow.keras.models import Model\n",
        "\n",
        "x = [1, 2, 3, 4, 5, 6, 7, 8, 9]\n",
        "y = [11, 22, 33, 44, 55, 66, 77, 88, 99]\n",
        "\n",
        "inputs = Input(shape=(1,))\n",
        "output = Dense(1, activation='linear')(inputs)\n",
        "linear_model = Model(inputs, output)\n",
        "\n",
        "linear_model.compile(\n",
        "    optimizer=optimizers.SGD(lr=0.01),\n",
        "    loss='mse',\n",
        "    metrics=['mse']\n",
        ")\n",
        "\n",
        "linear_model.fit(x, y, epochs=300, verbose=0)\n",
        "print(linear_model.predict(x))"
      ],
      "metadata": {
        "colab": {
          "base_uri": "https://localhost:8080/"
        },
        "id": "8tQsN8tB-Nlu",
        "outputId": "f86f2d62-3a8d-4f62-dc32-1f133f1e6c28"
      },
      "execution_count": 11,
      "outputs": [
        {
          "output_type": "stream",
          "name": "stderr",
          "text": [
            "/usr/local/lib/python3.7/dist-packages/keras/optimizer_v2/gradient_descent.py:102: UserWarning: The `lr` argument is deprecated, use `learning_rate` instead.\n",
            "  super(SGD, self).__init__(name, **kwargs)\n"
          ]
        },
        {
          "output_type": "stream",
          "name": "stdout",
          "text": [
            "[[11.411755]\n",
            " [22.33395 ]\n",
            " [33.25615 ]\n",
            " [44.178345]\n",
            " [55.10054 ]\n",
            " [66.022736]\n",
            " [76.94493 ]\n",
            " [87.86713 ]\n",
            " [98.78932 ]]\n"
          ]
        }
      ]
    },
    {
      "cell_type": "markdown",
      "source": [
        "3) 로지스틱 회귀( Logistic Regression)"
      ],
      "metadata": {
        "id": "_sKCvdEM_ZlV"
      }
    },
    {
      "cell_type": "code",
      "source": [
        "x = [[1, 2, 3], [2, 3, 4], [4, 5, 6], [6, 7, 8]]\n",
        "y = [[1], [0], [0], [0]]\n",
        "\n",
        "inputs = Input(shape=(3,))\n",
        "output = Dense(1, activation='sigmoid')(inputs)\n",
        "logistic_model = Model(inputs, output)\n",
        "\n",
        "logistic_model.compile(\n",
        "    optimizer='sgd',\n",
        "    loss='binary_crossentropy',\n",
        "    metrics=['acc']\n",
        ")\n",
        "\n",
        "logistic_model.fit(x, y, epochs=500)\n",
        "\n",
        "print(logistic_model.predict(x))\n"
      ],
      "metadata": {
        "id": "OxFBjZgf-xoa"
      },
      "execution_count": null,
      "outputs": []
    },
    {
      "cell_type": "markdown",
      "source": [
        "4) 다중 입력을 받는 모델 (model that accepts multiple inputs)"
      ],
      "metadata": {
        "id": "mAuS9LLKAjS9"
      }
    },
    {
      "cell_type": "code",
      "source": [
        "from tensorflow.keras.layers import concatenate\n",
        "\n",
        "inputA = Input(shape=(64,))\n",
        "inputB = Input(shape=(128, ))\n",
        "\n",
        "# 첫번째 입력층으로부터 분기되어 진행되는 인공 신경망\n",
        "x = Dense(16, activation='relu')(inputA)\n",
        "x = Dense(8, activation='relu')(x)\n",
        "x = Model(inputs=inputA, outputs=x)\n",
        "\n",
        "# 두번째 입력층으로부터 분기되어 진행되는 인공 신경망\n",
        "y = Dense(64, activation='relu')(inputB)\n",
        "y = Dense(32, activation='relu')(y)\n",
        "y = Dense(8, activation='relu')(y)\n",
        "y = Model(inputs=inputB, outputs=y)\n",
        "\n",
        "# 두개의 인공 신경망의 출력을 연결\n",
        "result = concatenate([x.output, y.output])\n",
        "\n",
        "z = Dense(2, activation='relu')(result)\n",
        "z = Dense(1, activation='linear')(z)\n",
        "\n",
        "model = Model(inputs=[x.input, y.input], outputs=z)"
      ],
      "metadata": {
        "id": "J8UcLXcyAnBb"
      },
      "execution_count": 13,
      "outputs": []
    },
    {
      "cell_type": "markdown",
      "source": [
        "5) RNN(Recurrence Neural Network) 은닉층 사용하기\n",
        "\n",
        "하나의 feature에 50개의 time-step을 입력으로 받는 모델 설계"
      ],
      "metadata": {
        "id": "qvjzWndGBWZg"
      }
    },
    {
      "cell_type": "code",
      "source": [
        "from tensorflow.keras.layers import LSTM\n",
        "\n",
        "inputs = Input(shape=(50, 1))\n",
        "lstm_layer = LSTM(10)(inputs)\n",
        "x = Dense(10, activation='relu')(lstm_layer)\n",
        "output = Dense(1, activation='sigmoid')(x)\n",
        "\n",
        "model = Model(inputs=inputs, outputs=output)"
      ],
      "metadata": {
        "id": "xGdyy7T2BUoi"
      },
      "execution_count": 14,
      "outputs": []
    },
    {
      "cell_type": "markdown",
      "source": [
        "6) 다르게 보이지만 동일한 표기"
      ],
      "metadata": {
        "id": "vOGLwkNyB4PI"
      }
    },
    {
      "cell_type": "code",
      "source": [
        "result = Dense(128)(input)\n",
        "\n",
        "# 위와 아래는 같은 것\n",
        "\n",
        "dense = Dense(128)\n",
        "result = dense(input)"
      ],
      "metadata": {
        "id": "rtqhB7DGB6J-"
      },
      "execution_count": null,
      "outputs": []
    }
  ]
}