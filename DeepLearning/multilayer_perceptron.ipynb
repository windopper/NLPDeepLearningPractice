{
  "nbformat": 4,
  "nbformat_minor": 0,
  "metadata": {
    "colab": {
      "name": "multilayer_perceptron.ipynb",
      "provenance": [],
      "authorship_tag": "ABX9TyO1E3KIvA6ufyIEz05uWiMk",
      "include_colab_link": true
    },
    "kernelspec": {
      "name": "python3",
      "display_name": "Python 3"
    },
    "language_info": {
      "name": "python"
    },
    "accelerator": "GPU"
  },
  "cells": [
    {
      "cell_type": "markdown",
      "metadata": {
        "id": "view-in-github",
        "colab_type": "text"
      },
      "source": [
        "<a href=\"https://colab.research.google.com/github/windopper/NerualNetworkPracticeInJupyter/blob/main/DeepLeaning/multilayer_perceptron.ipynb\" target=\"_parent\"><img src=\"https://colab.research.google.com/assets/colab-badge.svg\" alt=\"Open In Colab\"/></a>"
      ]
    },
    {
      "cell_type": "markdown",
      "source": [
        "reference https://wikidocs.net/49071\n"
      ],
      "metadata": {
        "id": "B8afMfkQHd6z"
      }
    },
    {
      "cell_type": "markdown",
      "source": [
        "# 다층 퍼셉트론 (MultiLayer Perceptron, MLP)\n",
        "\n",
        "단층 퍼셉트론의 형태에서 은닉층이 1개 이상 추가된 신경망을 다층 퍼셉트론이라고 하며, 다층 퍼셉트론은 피드 포워드 신경망(Feed Forward Neural Network, FFNN)의 가장 기본적인 형태임\n",
        "\n",
        "피드 포워드 신경망은 출력층으로 오직 한 방향으로만 연산 방향이 정해져 있는 신경망을 말함"
      ],
      "metadata": {
        "id": "UMXHmRKPDe8y"
      }
    },
    {
      "cell_type": "markdown",
      "source": [
        "# 케라스의 texts_to_matrix() 이해하기"
      ],
      "metadata": {
        "id": "DN9M95FIDzk8"
      }
    },
    {
      "cell_type": "markdown",
      "source": [
        "위 텍스트 데이터에 대해서 정수 인코딩 수행"
      ],
      "metadata": {
        "id": "cQmsyYFEEEBH"
      }
    },
    {
      "cell_type": "code",
      "execution_count": 2,
      "metadata": {
        "colab": {
          "base_uri": "https://localhost:8080/"
        },
        "id": "gldsbxs5DQ5H",
        "outputId": "708adc6e-6761-463d-9e11-b005a7095e7b"
      },
      "outputs": [
        {
          "output_type": "stream",
          "name": "stdout",
          "text": [
            "{'바나나': 1, '먹고': 2, '싶은': 3, '사과': 4, '길고': 5, '노란': 6, '저는': 7, '과일이': 8, '좋아요': 9}\n"
          ]
        }
      ],
      "source": [
        "import numpy as np\n",
        "from tensorflow.keras.preprocessing.text import Tokenizer\n",
        "\n",
        "texts = ['먹고 싶은 사과', '먹고 싶은 바나나', '길고 노란 바나나 바나나', '저는 과일이 좋아요']\n",
        "\n",
        "tokenizer = Tokenizer()\n",
        "tokenizer.fit_on_texts(texts)\n",
        "print(tokenizer.word_index)"
      ]
    },
    {
      "cell_type": "markdown",
      "source": [
        "texts_to_matrix()는 입력된 텍스트 데이터로부터 행렬을 만드는 도구임\n",
        "\n",
        "4개의 모드를 지원하는데 'binary', 'count', 'freq', 'tfidf'로 총 4개임"
      ],
      "metadata": {
        "id": "0mUCR70kETYf"
      }
    },
    {
      "cell_type": "markdown",
      "source": [
        "count를 사용하면,"
      ],
      "metadata": {
        "id": "NIngkB2wEcF7"
      }
    },
    {
      "cell_type": "code",
      "source": [
        "print(tokenizer.texts_to_matrix(texts, mode='count'))"
      ],
      "metadata": {
        "colab": {
          "base_uri": "https://localhost:8080/"
        },
        "id": "BStpJrJdEFo4",
        "outputId": "fd834200-8f32-4eb0-c282-88d766525a12"
      },
      "execution_count": 3,
      "outputs": [
        {
          "output_type": "stream",
          "name": "stdout",
          "text": [
            "[[0. 0. 1. 1. 1. 0. 0. 0. 0. 0.]\n",
            " [0. 1. 1. 1. 0. 0. 0. 0. 0. 0.]\n",
            " [0. 2. 0. 0. 0. 1. 1. 0. 0. 0.]\n",
            " [0. 0. 0. 0. 0. 0. 0. 1. 1. 1.]]\n"
          ]
        }
      ]
    },
    {
      "cell_type": "markdown",
      "source": [
        "'count'를 사용하면 문서 단어 행렬 (Document-Term Matrix, DTM)을 생성함. DTM에서의 인덱스는 앞서 확인한 word_index의 결과. 주의할 점으로 각 단어의 부여되는 인덱스는 1부터 시작하는 반면에 완성되는 행렬의 인덱스는 0부터 시작함. 인덱스 0에는 그 어떤 단어도 할당되지 않았기 때문에 DTM의 첫번째 인덱스는 모두 0.\n",
        "\n",
        "또한 단어가 등장한 수에 따라 인덱스의 값이 결정됨"
      ],
      "metadata": {
        "id": "H6PFTJljExAR"
      }
    },
    {
      "cell_type": "code",
      "source": [
        "print(tokenizer.texts_to_matrix(texts, mode='binary'))"
      ],
      "metadata": {
        "colab": {
          "base_uri": "https://localhost:8080/"
        },
        "id": "-t8bsx07EgyT",
        "outputId": "ca2990ed-0261-4668-a5d8-7dd2ca905a8d"
      },
      "execution_count": 4,
      "outputs": [
        {
          "output_type": "stream",
          "name": "stdout",
          "text": [
            "[[0. 0. 1. 1. 1. 0. 0. 0. 0. 0.]\n",
            " [0. 1. 1. 1. 0. 0. 0. 0. 0. 0.]\n",
            " [0. 1. 0. 0. 0. 1. 1. 0. 0. 0.]\n",
            " [0. 0. 0. 0. 0. 0. 0. 1. 1. 1.]]\n"
          ]
        }
      ]
    },
    {
      "cell_type": "markdown",
      "source": [
        "'binary'는 'count'와 다르게 단어의 등장 빈도를 반영하지 않고 단어가 등장했는지만 관심을 가짐"
      ],
      "metadata": {
        "id": "x93m9Lr1Fk2p"
      }
    },
    {
      "cell_type": "code",
      "source": [
        "print(tokenizer.texts_to_matrix(texts, mode='tfidf').round(2))"
      ],
      "metadata": {
        "colab": {
          "base_uri": "https://localhost:8080/"
        },
        "id": "AZVf8QShFj-U",
        "outputId": "e2a3ec14-72a8-444c-b15e-6a9319e15ea4"
      },
      "execution_count": 6,
      "outputs": [
        {
          "output_type": "stream",
          "name": "stdout",
          "text": [
            "[[0.   0.   0.85 0.85 1.1  0.   0.   0.   0.   0.  ]\n",
            " [0.   0.85 0.85 0.85 0.   0.   0.   0.   0.   0.  ]\n",
            " [0.   1.43 0.   0.   0.   1.1  1.1  0.   0.   0.  ]\n",
            " [0.   0.   0.   0.   0.   0.   0.   1.1  1.1  1.1 ]]\n"
          ]
        }
      ]
    },
    {
      "cell_type": "markdown",
      "source": [
        "reference https://wikidocs.net/31698\n",
        "\n",
        "'tfidf'는 TF-IDF (Term Frequency-Inverse Document Frequency) 행렬을 따름"
      ],
      "metadata": {
        "id": "arPBiPxJHLnQ"
      }
    },
    {
      "cell_type": "code",
      "source": [
        "print(tokenizer.texts_to_matrix(texts, mode='freq').round(2))"
      ],
      "metadata": {
        "colab": {
          "base_uri": "https://localhost:8080/"
        },
        "id": "GrAB-Q3ZFzqv",
        "outputId": "8bf6ca10-f247-4b9d-b46e-234f4ed81401"
      },
      "execution_count": 7,
      "outputs": [
        {
          "output_type": "stream",
          "name": "stdout",
          "text": [
            "[[0.   0.   0.33 0.33 0.33 0.   0.   0.   0.   0.  ]\n",
            " [0.   0.33 0.33 0.33 0.   0.   0.   0.   0.   0.  ]\n",
            " [0.   0.5  0.   0.   0.   0.25 0.25 0.   0.   0.  ]\n",
            " [0.   0.   0.   0.   0.   0.   0.   0.33 0.33 0.33]]\n"
          ]
        }
      ]
    },
    {
      "cell_type": "markdown",
      "source": [
        "'freq' 모드는 각 문서에서의 각 단어의 등장 횟수를 분자로, 각 문서의 크기(각 문서에서 등장한 모든 단어의 개수의 총 합)를 분모로 하는 표현 방법임"
      ],
      "metadata": {
        "id": "sOfazKJFH3-0"
      }
    },
    {
      "cell_type": "markdown",
      "source": [
        "# 20개 뉴스 그룹(Twenty Newsgroups) 데이터에 대한 이해"
      ],
      "metadata": {
        "id": "ePG1H08qIajf"
      }
    },
    {
      "cell_type": "code",
      "source": [
        "import pandas as pd\n",
        "from sklearn.datasets import fetch_20newsgroups\n",
        "import matplotlib.pyplot as plt\n",
        "from tensorflow.keras.preprocessing.text import Tokenizer\n",
        "from tensorflow.keras.utils import to_categorical\n",
        "\n",
        "newsdata = fetch_20newsgroups(subset = 'train')\n",
        "print(newsdata.keys())"
      ],
      "metadata": {
        "colab": {
          "base_uri": "https://localhost:8080/"
        },
        "id": "xWpS4KWjH3Zl",
        "outputId": "110c435b-da09-4d52-9cff-d1ab05ef943a"
      },
      "execution_count": 21,
      "outputs": [
        {
          "output_type": "stream",
          "name": "stdout",
          "text": [
            "dict_keys(['data', 'filenames', 'target_names', 'target', 'DESCR'])\n"
          ]
        }
      ]
    },
    {
      "cell_type": "code",
      "source": [
        "print('훈련용 샘플의 개수 : {}'.format(len(newsdata.data)))"
      ],
      "metadata": {
        "colab": {
          "base_uri": "https://localhost:8080/"
        },
        "id": "JPALQnWAP1YB",
        "outputId": "eb329daf-05f8-490f-c9b3-4eba380e0fba"
      },
      "execution_count": 3,
      "outputs": [
        {
          "output_type": "stream",
          "name": "stdout",
          "text": [
            "훈련용 샘플의 개수 : 11314\n"
          ]
        }
      ]
    },
    {
      "cell_type": "code",
      "source": [
        "print('총 주제의 개수 : {}'.format(len(newsdata.target_names)))\n",
        "print(newsdata.target_names)"
      ],
      "metadata": {
        "colab": {
          "base_uri": "https://localhost:8080/"
        },
        "id": "USHHtDulZ8XO",
        "outputId": "c0b1013d-c255-44fd-f255-a1c4a47227cc"
      },
      "execution_count": 5,
      "outputs": [
        {
          "output_type": "stream",
          "name": "stdout",
          "text": [
            "총 주제의 개수 : 20\n",
            "['alt.atheism', 'comp.graphics', 'comp.os.ms-windows.misc', 'comp.sys.ibm.pc.hardware', 'comp.sys.mac.hardware', 'comp.windows.x', 'misc.forsale', 'rec.autos', 'rec.motorcycles', 'rec.sport.baseball', 'rec.sport.hockey', 'sci.crypt', 'sci.electronics', 'sci.med', 'sci.space', 'soc.religion.christian', 'talk.politics.guns', 'talk.politics.mideast', 'talk.politics.misc', 'talk.religion.misc']\n"
          ]
        }
      ]
    },
    {
      "cell_type": "markdown",
      "source": [
        "테스트 데이터에서 이메일 본문을 보고 20개의 주제 중 어떤 주제인지를 맞추는 예제. 레이블인 target에는 총 0부터 19까지의 숫자가 들어있는데 첫번째 샘플의 경우에는 몇 번 주제인지 확인해보겠음"
      ],
      "metadata": {
        "id": "MyHagah6aRQK"
      }
    },
    {
      "cell_type": "code",
      "source": [
        "print('첫번째 샘플의 레이블 : {}'.format(newsdata.target[0]))"
      ],
      "metadata": {
        "colab": {
          "base_uri": "https://localhost:8080/"
        },
        "id": "qQ_rIM-YaKiC",
        "outputId": "72b7c549-2b21-40c0-f927-1bde8ad5de22"
      },
      "execution_count": 7,
      "outputs": [
        {
          "output_type": "stream",
          "name": "stdout",
          "text": [
            "첫번째 샘플의 레이블 : 7\n"
          ]
        }
      ]
    },
    {
      "cell_type": "markdown",
      "source": [
        "숫자 만으로 알 수 없으므로 7이 실제로 어떤 주제를 나타내는지는 target_names[] 안에 숫자를 입력하여 알 수 있음"
      ],
      "metadata": {
        "id": "btXWJjAfawQB"
      }
    },
    {
      "cell_type": "code",
      "source": [
        "print('7번 레이블이 의미하는 주제 : {}'.format(newsdata.target_names[7]))"
      ],
      "metadata": {
        "colab": {
          "base_uri": "https://localhost:8080/"
        },
        "id": "uVoKq90dadOU",
        "outputId": "0055de6f-681e-4c99-d760-72275232d432"
      },
      "execution_count": 8,
      "outputs": [
        {
          "output_type": "stream",
          "name": "stdout",
          "text": [
            "7번 레이블이 의미하는 주제 : rec.autos\n"
          ]
        }
      ]
    },
    {
      "cell_type": "markdown",
      "source": [
        "첫번째 샘플의 본문 내용을 확인"
      ],
      "metadata": {
        "id": "DAo-69CRa-Dh"
      }
    },
    {
      "cell_type": "code",
      "source": [
        "print(newsdata.data[0])"
      ],
      "metadata": {
        "colab": {
          "base_uri": "https://localhost:8080/"
        },
        "id": "VRJ1Cfw0a76I",
        "outputId": "45301ac9-8442-4bb7-9a70-8622d2ee900b"
      },
      "execution_count": 9,
      "outputs": [
        {
          "output_type": "stream",
          "name": "stdout",
          "text": [
            "From: lerxst@wam.umd.edu (where's my thing)\n",
            "Subject: WHAT car is this!?\n",
            "Nntp-Posting-Host: rac3.wam.umd.edu\n",
            "Organization: University of Maryland, College Park\n",
            "Lines: 15\n",
            "\n",
            " I was wondering if anyone out there could enlighten me on this car I saw\n",
            "the other day. It was a 2-door sports car, looked to be from the late 60s/\n",
            "early 70s. It was called a Bricklin. The doors were really small. In addition,\n",
            "the front bumper was separate from the rest of the body. This is \n",
            "all I know. If anyone can tellme a model name, engine specs, years\n",
            "of production, where this car is made, history, or whatever info you\n",
            "have on this funky looking car, please e-mail.\n",
            "\n",
            "Thanks,\n",
            "- IL\n",
            "   ---- brought to you by your neighborhood Lerxst ----\n",
            "\n",
            "\n",
            "\n",
            "\n",
            "\n"
          ]
        }
      ]
    },
    {
      "cell_type": "markdown",
      "source": [
        "훈련에 사용될 메일 본문인 data와 레이블인 target을 데이터프레임으로 만듬"
      ],
      "metadata": {
        "id": "oESooob1bGpv"
      }
    },
    {
      "cell_type": "code",
      "source": [
        "data = pd.DataFrame(newsdata.data, columns = ['email'])\n",
        "data['target'] = pd.Series(newsdata.target)\n",
        "data[:5]"
      ],
      "metadata": {
        "colab": {
          "base_uri": "https://localhost:8080/",
          "height": 206
        },
        "id": "CPq-v9iQbBPN",
        "outputId": "c8fdf906-195f-49d2-d420-1401add55ef7"
      },
      "execution_count": 10,
      "outputs": [
        {
          "output_type": "execute_result",
          "data": {
            "text/html": [
              "\n",
              "  <div id=\"df-60d88efa-c6a3-40ee-81a5-a05c7825caba\">\n",
              "    <div class=\"colab-df-container\">\n",
              "      <div>\n",
              "<style scoped>\n",
              "    .dataframe tbody tr th:only-of-type {\n",
              "        vertical-align: middle;\n",
              "    }\n",
              "\n",
              "    .dataframe tbody tr th {\n",
              "        vertical-align: top;\n",
              "    }\n",
              "\n",
              "    .dataframe thead th {\n",
              "        text-align: right;\n",
              "    }\n",
              "</style>\n",
              "<table border=\"1\" class=\"dataframe\">\n",
              "  <thead>\n",
              "    <tr style=\"text-align: right;\">\n",
              "      <th></th>\n",
              "      <th>email</th>\n",
              "      <th>target</th>\n",
              "    </tr>\n",
              "  </thead>\n",
              "  <tbody>\n",
              "    <tr>\n",
              "      <th>0</th>\n",
              "      <td>From: lerxst@wam.umd.edu (where's my thing)\\nS...</td>\n",
              "      <td>7</td>\n",
              "    </tr>\n",
              "    <tr>\n",
              "      <th>1</th>\n",
              "      <td>From: guykuo@carson.u.washington.edu (Guy Kuo)...</td>\n",
              "      <td>4</td>\n",
              "    </tr>\n",
              "    <tr>\n",
              "      <th>2</th>\n",
              "      <td>From: twillis@ec.ecn.purdue.edu (Thomas E Will...</td>\n",
              "      <td>4</td>\n",
              "    </tr>\n",
              "    <tr>\n",
              "      <th>3</th>\n",
              "      <td>From: jgreen@amber (Joe Green)\\nSubject: Re: W...</td>\n",
              "      <td>1</td>\n",
              "    </tr>\n",
              "    <tr>\n",
              "      <th>4</th>\n",
              "      <td>From: jcm@head-cfa.harvard.edu (Jonathan McDow...</td>\n",
              "      <td>14</td>\n",
              "    </tr>\n",
              "  </tbody>\n",
              "</table>\n",
              "</div>\n",
              "      <button class=\"colab-df-convert\" onclick=\"convertToInteractive('df-60d88efa-c6a3-40ee-81a5-a05c7825caba')\"\n",
              "              title=\"Convert this dataframe to an interactive table.\"\n",
              "              style=\"display:none;\">\n",
              "        \n",
              "  <svg xmlns=\"http://www.w3.org/2000/svg\" height=\"24px\"viewBox=\"0 0 24 24\"\n",
              "       width=\"24px\">\n",
              "    <path d=\"M0 0h24v24H0V0z\" fill=\"none\"/>\n",
              "    <path d=\"M18.56 5.44l.94 2.06.94-2.06 2.06-.94-2.06-.94-.94-2.06-.94 2.06-2.06.94zm-11 1L8.5 8.5l.94-2.06 2.06-.94-2.06-.94L8.5 2.5l-.94 2.06-2.06.94zm10 10l.94 2.06.94-2.06 2.06-.94-2.06-.94-.94-2.06-.94 2.06-2.06.94z\"/><path d=\"M17.41 7.96l-1.37-1.37c-.4-.4-.92-.59-1.43-.59-.52 0-1.04.2-1.43.59L10.3 9.45l-7.72 7.72c-.78.78-.78 2.05 0 2.83L4 21.41c.39.39.9.59 1.41.59.51 0 1.02-.2 1.41-.59l7.78-7.78 2.81-2.81c.8-.78.8-2.07 0-2.86zM5.41 20L4 18.59l7.72-7.72 1.47 1.35L5.41 20z\"/>\n",
              "  </svg>\n",
              "      </button>\n",
              "      \n",
              "  <style>\n",
              "    .colab-df-container {\n",
              "      display:flex;\n",
              "      flex-wrap:wrap;\n",
              "      gap: 12px;\n",
              "    }\n",
              "\n",
              "    .colab-df-convert {\n",
              "      background-color: #E8F0FE;\n",
              "      border: none;\n",
              "      border-radius: 50%;\n",
              "      cursor: pointer;\n",
              "      display: none;\n",
              "      fill: #1967D2;\n",
              "      height: 32px;\n",
              "      padding: 0 0 0 0;\n",
              "      width: 32px;\n",
              "    }\n",
              "\n",
              "    .colab-df-convert:hover {\n",
              "      background-color: #E2EBFA;\n",
              "      box-shadow: 0px 1px 2px rgba(60, 64, 67, 0.3), 0px 1px 3px 1px rgba(60, 64, 67, 0.15);\n",
              "      fill: #174EA6;\n",
              "    }\n",
              "\n",
              "    [theme=dark] .colab-df-convert {\n",
              "      background-color: #3B4455;\n",
              "      fill: #D2E3FC;\n",
              "    }\n",
              "\n",
              "    [theme=dark] .colab-df-convert:hover {\n",
              "      background-color: #434B5C;\n",
              "      box-shadow: 0px 1px 3px 1px rgba(0, 0, 0, 0.15);\n",
              "      filter: drop-shadow(0px 1px 2px rgba(0, 0, 0, 0.3));\n",
              "      fill: #FFFFFF;\n",
              "    }\n",
              "  </style>\n",
              "\n",
              "      <script>\n",
              "        const buttonEl =\n",
              "          document.querySelector('#df-60d88efa-c6a3-40ee-81a5-a05c7825caba button.colab-df-convert');\n",
              "        buttonEl.style.display =\n",
              "          google.colab.kernel.accessAllowed ? 'block' : 'none';\n",
              "\n",
              "        async function convertToInteractive(key) {\n",
              "          const element = document.querySelector('#df-60d88efa-c6a3-40ee-81a5-a05c7825caba');\n",
              "          const dataTable =\n",
              "            await google.colab.kernel.invokeFunction('convertToInteractive',\n",
              "                                                     [key], {});\n",
              "          if (!dataTable) return;\n",
              "\n",
              "          const docLinkHtml = 'Like what you see? Visit the ' +\n",
              "            '<a target=\"_blank\" href=https://colab.research.google.com/notebooks/data_table.ipynb>data table notebook</a>'\n",
              "            + ' to learn more about interactive tables.';\n",
              "          element.innerHTML = '';\n",
              "          dataTable['output_type'] = 'display_data';\n",
              "          await google.colab.output.renderOutput(dataTable, element);\n",
              "          const docLink = document.createElement('div');\n",
              "          docLink.innerHTML = docLinkHtml;\n",
              "          element.appendChild(docLink);\n",
              "        }\n",
              "      </script>\n",
              "    </div>\n",
              "  </div>\n",
              "  "
            ],
            "text/plain": [
              "                                               email  target\n",
              "0  From: lerxst@wam.umd.edu (where's my thing)\\nS...       7\n",
              "1  From: guykuo@carson.u.washington.edu (Guy Kuo)...       4\n",
              "2  From: twillis@ec.ecn.purdue.edu (Thomas E Will...       4\n",
              "3  From: jgreen@amber (Joe Green)\\nSubject: Re: W...       1\n",
              "4  From: jcm@head-cfa.harvard.edu (Jonathan McDow...      14"
            ]
          },
          "metadata": {},
          "execution_count": 10
        }
      ]
    },
    {
      "cell_type": "code",
      "source": [
        "data.info()"
      ],
      "metadata": {
        "colab": {
          "base_uri": "https://localhost:8080/"
        },
        "id": "VgHUBJCSbZja",
        "outputId": "c02eddda-aafc-4d1d-eb00-bc81bb6c3e2d"
      },
      "execution_count": 11,
      "outputs": [
        {
          "output_type": "stream",
          "name": "stdout",
          "text": [
            "<class 'pandas.core.frame.DataFrame'>\n",
            "RangeIndex: 11314 entries, 0 to 11313\n",
            "Data columns (total 2 columns):\n",
            " #   Column  Non-Null Count  Dtype \n",
            "---  ------  --------------  ----- \n",
            " 0   email   11314 non-null  object\n",
            " 1   target  11314 non-null  int64 \n",
            "dtypes: int64(1), object(1)\n",
            "memory usage: 176.9+ KB\n"
          ]
        }
      ]
    },
    {
      "cell_type": "code",
      "source": [
        "print('중복을 제외한 샘플의 수 : {}'.format(data['email'].nunique()))\n",
        "print('중복을 제외한 주제의 수 : {}'.format(data['target'].nunique()))"
      ],
      "metadata": {
        "colab": {
          "base_uri": "https://localhost:8080/"
        },
        "id": "RHUu0wgxbfmD",
        "outputId": "5aedcb16-0593-48f5-ac07-4170f9824c59"
      },
      "execution_count": 12,
      "outputs": [
        {
          "output_type": "stream",
          "name": "stdout",
          "text": [
            "중복을 제외한 샘플의 수 : 11314\n",
            "중복을 제외한 주제의 수 : 20\n"
          ]
        }
      ]
    },
    {
      "cell_type": "markdown",
      "source": [
        "레이블 값의 분포를 시각화"
      ],
      "metadata": {
        "id": "GCkdUeVIbyax"
      }
    },
    {
      "cell_type": "code",
      "source": [
        "data['target'].value_counts().plot(kind='bar')"
      ],
      "metadata": {
        "colab": {
          "base_uri": "https://localhost:8080/",
          "height": 287
        },
        "id": "fKYi5ZYobwU8",
        "outputId": "ef94e8a1-e24e-4298-c821-896c3d535135"
      },
      "execution_count": 17,
      "outputs": [
        {
          "output_type": "execute_result",
          "data": {
            "text/plain": [
              "<matplotlib.axes._subplots.AxesSubplot at 0x7f2b4e059710>"
            ]
          },
          "metadata": {},
          "execution_count": 17
        },
        {
          "output_type": "display_data",
          "data": {
            "image/png": "[encoded data removed]",
            "text/plain": [
              "<Figure size 432x288 with 1 Axes>"
            ]
          },
          "metadata": {
            "needs_background": "light"
          }
        }
      ]
    },
    {
      "cell_type": "code",
      "source": [
        "print(data.groupby('target').size().reset_index(name='count'))"
      ],
      "metadata": {
        "colab": {
          "base_uri": "https://localhost:8080/"
        },
        "id": "6aSHTNotb2qd",
        "outputId": "14cd844a-7689-4f48-89f5-63d394ee9780"
      },
      "execution_count": 18,
      "outputs": [
        {
          "output_type": "stream",
          "name": "stdout",
          "text": [
            "    target  count\n",
            "0        0    480\n",
            "1        1    584\n",
            "2        2    591\n",
            "3        3    590\n",
            "4        4    578\n",
            "5        5    593\n",
            "6        6    585\n",
            "7        7    594\n",
            "8        8    598\n",
            "9        9    597\n",
            "10      10    600\n",
            "11      11    595\n",
            "12      12    591\n",
            "13      13    594\n",
            "14      14    593\n",
            "15      15    599\n",
            "16      16    546\n",
            "17      17    564\n",
            "18      18    465\n",
            "19      19    377\n"
          ]
        }
      ]
    },
    {
      "cell_type": "markdown",
      "source": [
        "데이터 프레임으로부터 다시 메일 본문과 레이블을 분리하고, 데스트 데이터를 불러옴"
      ],
      "metadata": {
        "id": "tMhCGyiKdIQw"
      }
    },
    {
      "cell_type": "code",
      "source": [
        "newsdata_test = fetch_20newsgroups(subset='test', shuffle=True)\n",
        "train_email = data['email']\n",
        "train_label = data['target']\n",
        "test_email = newsdata_test.data\n",
        "test_label = newsdata_test.target\n",
        "\n",
        "vocab_size = 10000\n",
        "num_classes = 20"
      ],
      "metadata": {
        "id": "qH0mSCyIdCuo"
      },
      "execution_count": 19,
      "outputs": []
    },
    {
      "cell_type": "markdown",
      "source": [
        "vocab_size는 이번에 실습에 사용할 최대 단어 개수\n",
        "케라스 토크나이저를 사용하면 빈도수 순으로 인덱스를 부여하므로, 빈도수가 가장 높은 상위 vocab_size 개수만큼의 단어를 사용함"
      ],
      "metadata": {
        "id": "MNhUXKB0dfnW"
      }
    },
    {
      "cell_type": "code",
      "source": [
        "def prepare_data(train_data, test_data, mode): # 전처리 함수\n",
        " tokenizer = Tokenizer(num_words=vocab_size)\n",
        " tokenizer.fit_on_texts(train_data)\n",
        " x_train = tokenizer.texts_to_matrix(train_data, mode=mode)\n",
        " x_test = tokenizer.texts_to_matrix(test_data, mode=mode)\n",
        "\n",
        " return x_train, x_test, tokenizer.index_word\n",
        "\n",
        "x_train, x_test, index_to_word = prepare_data(train_email, test_email, 'binary')\n",
        "y_train = to_categorical(train_label, num_classes)\n",
        "y_test = to_categorical(test_label, num_classes)"
      ],
      "metadata": {
        "id": "pj5mLQa9degA"
      },
      "execution_count": 23,
      "outputs": []
    },
    {
      "cell_type": "markdown",
      "source": [
        "메일 본문은 'binary' 모드로 변환하고, 훈련데이터와 테스트 데이터의 레이블은 원-핫 인코딩 수행"
      ],
      "metadata": {
        "id": "9Unj-7stevnT"
      }
    },
    {
      "cell_type": "code",
      "source": [
        "print('훈련 샘플 본문의 크기 : {}'.format(x_train.shape))\n",
        "print('훈련 샘플 레이블의 크기 : {}'.format(y_train.shape))\n",
        "print('테스트 샘플 본문의 크기 : {}'.format(x_test.shape))\n",
        "print('테스트 샘플 레이블의 크기 : {}'.format(y_test.shape))"
      ],
      "metadata": {
        "colab": {
          "base_uri": "https://localhost:8080/"
        },
        "id": "t7sAKgePeWhb",
        "outputId": "993598e5-8d70-4f89-bbb4-31721087f1cb"
      },
      "execution_count": 25,
      "outputs": [
        {
          "output_type": "stream",
          "name": "stdout",
          "text": [
            "훈련 샘플 본문의 크기 : (11314, 10000)\n",
            "훈련 샘플 레이블의 크기 : (11314, 20)\n",
            "테스트 샘플 본문의 크기 : (7532, 10000)\n",
            "테스트 샘플 레이블의 크기 : (7532, 20)\n"
          ]
        }
      ]
    },
    {
      "cell_type": "markdown",
      "source": [
        "빈도수 상위 1번 단어과 9999번 단어를 확인하면"
      ],
      "metadata": {
        "id": "QzPDzSyQgfmN"
      }
    },
    {
      "cell_type": "code",
      "source": [
        "print('빈도수 상위 1번 단어 : {}'.format(index_to_word[1]))\n",
        "print('빈도수 상위 9999번 단어 : {}'.format(index_to_word[9999]))"
      ],
      "metadata": {
        "colab": {
          "base_uri": "https://localhost:8080/"
        },
        "id": "TSrEch-ofQeP",
        "outputId": "84e57a3c-df2b-4637-8d3f-750a4f567780"
      },
      "execution_count": 26,
      "outputs": [
        {
          "output_type": "stream",
          "name": "stdout",
          "text": [
            "빈도수 상위 1번 단어 : the\n",
            "빈도수 상위 9999번 단어 : mic\n"
          ]
        }
      ]
    },
    {
      "cell_type": "markdown",
      "source": [
        "# 다층 퍼셉트론(Multilayer Perceptron, MLP)을 사용하여 텍스트 분류하기"
      ],
      "metadata": {
        "id": "uHYMnmgxg7Qg"
      }
    },
    {
      "cell_type": "code",
      "source": [
        "from tensorflow.keras.models import Sequential\n",
        "from tensorflow.keras.layers import Dense, Dropout\n",
        "\n",
        "def fit_and_evaluate(x_train, y_train, x_test, y_test):\n",
        "  model = Sequential()\n",
        "  model.add(Dense(256, input_shape=(vocab_size,), activation='relu'))\n",
        "  model.add(Dropout(0.5))\n",
        "  model.add(Dense(128, activation='relu'))\n",
        "  model.add(Dropout(0.5))\n",
        "  model.add(Dense(num_classes, activation='softmax'))\n",
        "\n",
        "  model.compile(loss='categorical_crossentropy', optimizer='adam', metrics=['accuracy'])\n",
        "  model.fit(x_train, y_train, batch_size=128, epochs=5, verbose=1, validation_split=0.1)\n",
        "\n",
        "  score = model.evaluate(x_test, y_test, batch_size = 128, verbose=0)\n",
        "  return score[1]"
      ],
      "metadata": {
        "id": "iX5gV9qWgp81"
      },
      "execution_count": 31,
      "outputs": []
    },
    {
      "cell_type": "markdown",
      "source": [
        "은닉층 2개와 모델의 과적합을 막기위하여 2개의 Dropout을 적용 \n",
        "\n",
        "멀티 클래스 분류 문제이므로 출력층 활성화 함수로 'softmax'를 사용하였고, 손실함수로는 categorical 크로스 엔트로피를 사용함"
      ],
      "metadata": {
        "id": "Cv1-yRY3hxx-"
      }
    },
    {
      "cell_type": "code",
      "source": [
        "modes = ['binary', 'count' , 'tfidf', 'freq']\n",
        "\n",
        "for mode in modes:\n",
        "  x_train, x_test, _ = prepare_data(train_email, test_email, mode)\n",
        "\n",
        "  score = fit_and_evaluate(x_train, y_train, x_test, y_test)\n",
        "  print(mode+' 모드의 테스트 정확도:', score)"
      ],
      "metadata": {
        "colab": {
          "base_uri": "https://localhost:8080/"
        },
        "id": "TpqyAzUuhNpG",
        "outputId": "e30a5b9c-f947-4b3b-e7cc-644fc3462c17"
      },
      "execution_count": 32,
      "outputs": [
        {
          "output_type": "stream",
          "name": "stdout",
          "text": [
            "Epoch 1/5\n",
            "80/80 [==============================] - 1s 11ms/step - loss: 2.3266 - accuracy: 0.3285 - val_loss: 1.0184 - val_accuracy: 0.8065\n",
            "Epoch 2/5\n",
            "80/80 [==============================] - 1s 9ms/step - loss: 0.8740 - accuracy: 0.7596 - val_loss: 0.4494 - val_accuracy: 0.8887\n",
            "Epoch 3/5\n",
            "80/80 [==============================] - 1s 8ms/step - loss: 0.4353 - accuracy: 0.8846 - val_loss: 0.3531 - val_accuracy: 0.9037\n",
            "Epoch 4/5\n",
            "80/80 [==============================] - 1s 9ms/step - loss: 0.2516 - accuracy: 0.9375 - val_loss: 0.3172 - val_accuracy: 0.9081\n",
            "Epoch 5/5\n",
            "80/80 [==============================] - 1s 9ms/step - loss: 0.1702 - accuracy: 0.9586 - val_loss: 0.3070 - val_accuracy: 0.9099\n",
            "binary 모드의 테스트 정확도: 0.8248804807662964\n",
            "Epoch 1/5\n",
            "80/80 [==============================] - 1s 11ms/step - loss: 2.7604 - accuracy: 0.2521 - val_loss: 1.6224 - val_accuracy: 0.7182\n",
            "Epoch 2/5\n",
            "80/80 [==============================] - 1s 9ms/step - loss: 1.4770 - accuracy: 0.6251 - val_loss: 0.7591 - val_accuracy: 0.8330\n",
            "Epoch 3/5\n",
            "80/80 [==============================] - 1s 9ms/step - loss: 0.7920 - accuracy: 0.7977 - val_loss: 0.5393 - val_accuracy: 0.8754\n",
            "Epoch 4/5\n",
            "80/80 [==============================] - 1s 9ms/step - loss: 0.5685 - accuracy: 0.8678 - val_loss: 0.4449 - val_accuracy: 0.8860\n",
            "Epoch 5/5\n",
            "80/80 [==============================] - 1s 9ms/step - loss: 0.3894 - accuracy: 0.9128 - val_loss: 0.3819 - val_accuracy: 0.8913\n",
            "count 모드의 테스트 정확도: 0.8185076713562012\n",
            "Epoch 1/5\n",
            "80/80 [==============================] - 1s 12ms/step - loss: 2.2215 - accuracy: 0.3632 - val_loss: 0.8131 - val_accuracy: 0.8375\n",
            "Epoch 2/5\n",
            "80/80 [==============================] - 1s 9ms/step - loss: 0.8307 - accuracy: 0.7700 - val_loss: 0.4105 - val_accuracy: 0.9019\n",
            "Epoch 3/5\n",
            "80/80 [==============================] - 1s 9ms/step - loss: 0.4640 - accuracy: 0.8823 - val_loss: 0.3307 - val_accuracy: 0.9072\n",
            "Epoch 4/5\n",
            "80/80 [==============================] - 1s 9ms/step - loss: 0.3224 - accuracy: 0.9248 - val_loss: 0.3287 - val_accuracy: 0.9134\n",
            "Epoch 5/5\n",
            "80/80 [==============================] - 1s 9ms/step - loss: 0.2133 - accuracy: 0.9513 - val_loss: 0.2886 - val_accuracy: 0.9214\n",
            "tfidf 모드의 테스트 정확도: 0.8335103392601013\n",
            "Epoch 1/5\n",
            "80/80 [==============================] - 1s 12ms/step - loss: 2.9775 - accuracy: 0.0868 - val_loss: 2.9255 - val_accuracy: 0.1970\n",
            "Epoch 2/5\n",
            "80/80 [==============================] - 1s 9ms/step - loss: 2.7209 - accuracy: 0.2103 - val_loss: 2.3991 - val_accuracy: 0.3604\n",
            "Epoch 3/5\n",
            "80/80 [==============================] - 1s 9ms/step - loss: 2.1713 - accuracy: 0.3256 - val_loss: 1.8646 - val_accuracy: 0.5839\n",
            "Epoch 4/5\n",
            "80/80 [==============================] - 1s 8ms/step - loss: 1.7303 - accuracy: 0.4686 - val_loss: 1.4712 - val_accuracy: 0.6519\n",
            "Epoch 5/5\n",
            "80/80 [==============================] - 1s 9ms/step - loss: 1.3824 - accuracy: 0.5745 - val_loss: 1.1812 - val_accuracy: 0.7438\n",
            "freq 모드의 테스트 정확도: 0.6792352795600891\n"
          ]
        }
      ]
    },
    {
      "cell_type": "markdown",
      "source": [
        "freq 모드는 이 문제를 풀기위한 적절한 전처리 방법이 아닌것으로 판단됨"
      ],
      "metadata": {
        "id": "7Npqf-ftjKTc"
      }
    }
  ]
}
