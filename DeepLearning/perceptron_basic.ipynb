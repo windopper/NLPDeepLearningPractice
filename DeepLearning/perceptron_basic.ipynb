{
  "nbformat": 4,
  "nbformat_minor": 0,
  "metadata": {
    "colab": {
      "name": "perceptron_basic.ipynb",
      "provenance": [],
      "authorship_tag": "ABX9TyOBJL1hYTTE1Ub4H95fqsaX",
      "include_colab_link": true
    },
    "kernelspec": {
      "name": "python3",
      "display_name": "Python 3"
    },
    "language_info": {
      "name": "python"
    },
    "accelerator": "GPU"
  },
  "cells": [
    {
      "cell_type": "markdown",
      "metadata": {
        "id": "view-in-github",
        "colab_type": "text"
      },
      "source": [
        "<a href=\"https://colab.research.google.com/github/windopper/NerualNetworkPracticeInJupyter/blob/main/DeepLearning/perceptron_basic.ipynb\" target=\"_parent\"><img src=\"https://colab.research.google.com/assets/colab-badge.svg\" alt=\"Open In Colab\"/></a>"
      ]
    },
    {
      "cell_type": "markdown",
      "source": [
        "단층 퍼셉트론으로 구현한 AND, NAND, OR 게이트"
      ],
      "metadata": {
        "id": "GIo5FRt2sltl"
      }
    },
    {
      "cell_type": "code",
      "execution_count": 2,
      "metadata": {
        "id": "i3ZDOMdTq4Ic"
      },
      "outputs": [],
      "source": [
        "def AND_gate(x1, x2):\n",
        "  w1 = 0.5\n",
        "  w2 = 0.5\n",
        "  b = -0.7\n",
        "  result = w1*x1 + w2*x2 + b\n",
        "  if result <= 0:\n",
        "    return 0\n",
        "  else:\n",
        "    return 1"
      ]
    },
    {
      "cell_type": "code",
      "source": [
        "AND_gate(0, 0), AND_gate(1, 0), AND_gate(0, 1), AND_gate(1, 1)"
      ],
      "metadata": {
        "colab": {
          "base_uri": "https://localhost:8080/"
        },
        "id": "Bl-9WpAgrbFR",
        "outputId": "09e36a50-235d-4e79-e872-aebe3fc37805"
      },
      "execution_count": 14,
      "outputs": [
        {
          "output_type": "execute_result",
          "data": {
            "text/plain": [
              "(0, 0, 0, 1)"
            ]
          },
          "metadata": {},
          "execution_count": 14
        }
      ]
    },
    {
      "cell_type": "code",
      "source": [
        "def NAND_gate(x1, x2):\n",
        "  w1 = -0.5\n",
        "  w2 = -0.5\n",
        "  b = 0.7\n",
        "  result = w1*x1 + w2*x2 + b\n",
        "  if result<=0:\n",
        "    return 0\n",
        "  else:\n",
        "    return 1"
      ],
      "metadata": {
        "id": "uRJn6UXTrgqP"
      },
      "execution_count": 9,
      "outputs": []
    },
    {
      "cell_type": "code",
      "source": [
        "NAND_gate(0, 0), NAND_gate(0, 1), NAND_gate(1, 0), NAND_gate(1, 1)"
      ],
      "metadata": {
        "colab": {
          "base_uri": "https://localhost:8080/"
        },
        "id": "KioUQWUSrqts",
        "outputId": "d1cb0647-0382-4e18-f0a5-55f7741a61c2"
      },
      "execution_count": 13,
      "outputs": [
        {
          "output_type": "execute_result",
          "data": {
            "text/plain": [
              "(1, 1, 1, 0)"
            ]
          },
          "metadata": {},
          "execution_count": 13
        }
      ]
    },
    {
      "cell_type": "code",
      "source": [
        "def OR_gate(x1, x2):\n",
        "  w1 = 0.6\n",
        "  w2 = 0.6\n",
        "  b = -0.5\n",
        "  result = x1*w1 + x2*w2 + b\n",
        "  if result<=0:\n",
        "    return 0\n",
        "  else:\n",
        "    return 1"
      ],
      "metadata": {
        "id": "Stsdo444rvU0"
      },
      "execution_count": 11,
      "outputs": []
    },
    {
      "cell_type": "code",
      "source": [
        "OR_gate(0, 0), OR_gate(1, 0), OR_gate(0, 1), OR_gate(1, 1)"
      ],
      "metadata": {
        "colab": {
          "base_uri": "https://localhost:8080/"
        },
        "id": "tTS9_RoAsNb1",
        "outputId": "619aa29b-dbab-445f-8db5-0ac144697963"
      },
      "execution_count": 12,
      "outputs": [
        {
          "output_type": "execute_result",
          "data": {
            "text/plain": [
              "(0, 1, 1, 1)"
            ]
          },
          "metadata": {},
          "execution_count": 12
        }
      ]
    },
    {
      "cell_type": "markdown",
      "source": [
        "단층 퍼셉트론은 XOR 게이트를 구현할 수 없다"
      ],
      "metadata": {
        "id": "IwyRA-q0sWDa"
      }
    },
    {
      "cell_type": "markdown",
      "source": [
        "다층 퍼셉트론으로 구현한 XOR 게이트"
      ],
      "metadata": {
        "id": "BQ6FdI15s3hf"
      }
    },
    {
      "cell_type": "code",
      "source": [
        "def XOR_gate(x1, x2):\n",
        "  result = AND_gate(NAND_gate(x1, x2), OR_gate(x1, x2))\n",
        "  if result<=0:\n",
        "    return 0\n",
        "  else:\n",
        "    return 1"
      ],
      "metadata": {
        "id": "LCObJveJsS2u"
      },
      "execution_count": 15,
      "outputs": []
    },
    {
      "cell_type": "code",
      "source": [
        "XOR_gate(0, 0), XOR_gate(1, 0), XOR_gate(0, 1), XOR_gate(1, 1)"
      ],
      "metadata": {
        "colab": {
          "base_uri": "https://localhost:8080/"
        },
        "id": "BGK4ibsqtWI8",
        "outputId": "2c220075-de27-4971-9e1d-24d949310a6f"
      },
      "execution_count": 16,
      "outputs": [
        {
          "output_type": "execute_result",
          "data": {
            "text/plain": [
              "(0, 1, 1, 0)"
            ]
          },
          "metadata": {},
          "execution_count": 16
        }
      ]
    },
    {
      "cell_type": "markdown",
      "source": [
        "좀더 어려운 문제를 풀기 위해 2개 이상의 은닉층을 사용한 신경망을 심층 신경망(Deep Neural NetWork, DNN) 이라고 함\n",
        "\n",
        "\n",
        "reference \n",
        "https://wikidocs.net/24958"
      ],
      "metadata": {
        "id": "NOUjklVtthsf"
      }
    }
  ]
}