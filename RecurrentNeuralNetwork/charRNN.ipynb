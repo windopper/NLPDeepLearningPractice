{
 "nbformat": 4,
 "nbformat_minor": 0,
 "metadata": {
  "colab": {
   "name": "charRNN.ipynb",
   "provenance": [],
   "authorship_tag": "ABX9TyPWTZGBVfnp1xomPv9zSYA5",
   "include_colab_link": true
  },
  "kernelspec": {
   "name": "python3",
   "display_name": "Python 3"
  },
  "language_info": {
   "name": "python"
  },
  "accelerator": "GPU"
 },
 "cells": [
  {
   "cell_type": "markdown",
   "metadata": {
    "id": "view-in-github",
    "colab_type": "text"
   },
   "source": [
    "<a href=\"https://colab.research.google.com/github/windopper/NerualNetworkPracticeInJupyter/blob/main/RecurrentNeuralNetwork/charRNN.ipynb\" target=\"_parent\"><img src=\"https://colab.research.google.com/assets/colab-badge.svg\" alt=\"Open In Colab\"/></a>"
   ]
  },
  {
   "cell_type": "markdown",
   "source": [
    "# 문자 단위 RNN(Char RNN)\n",
    "\n",
    "입력과 출력의 단위가 단어 벡터였던 것을 문자 벡터로 변경하여 구현하는 RNN\n",
    "\n",
    "다 대 다 (Many-to-Many) 구조로 구현한 경우, 다 대 일(Many-to-One) 구조로 구현한 경우 두 가지를 살펴보겠음\n",
    "\n",
    "먼저, 다 대 다 구조"
   ],
   "metadata": {
    "id": "bZUKFqFoPd_6"
   }
  },
  {
   "cell_type": "markdown",
   "source": [
    "# 문자 단위 RNN 언어 모델"
   ],
   "metadata": {
    "id": "gQQ4fM7KP0cT"
   }
  },
  {
   "cell_type": "markdown",
   "source": [
    "데이터 로드, 특수 문자 제거, 단어 소문자화 전처리 시행"
   ],
   "metadata": {
    "id": "XPKqBbx0QXoN"
   }
  },
  {
   "cell_type": "code",
   "execution_count": 55,
   "metadata": {
    "colab": {
     "base_uri": "https://localhost:8080/"
    },
    "id": "iI3SwBcRO5Wh",
    "outputId": "aa691ad7-1f28-4012-fd02-a91f68bbc190"
   },
   "outputs": [
    {
     "output_type": "execute_result",
     "data": {
      "text/plain": [
       "['the project gutenberg ebook of alices adventures in wonderland, by lewis carroll',\n",
       " 'this ebook is for the use of anyone anywhere in the united states and',\n",
       " 'most other parts of the world at no cost and with almost no restrictions',\n",
       " 'whatsoever. you may copy it, give it away or re-use it under the terms',\n",
       " 'of the project gutenberg license included with this ebook or online at']"
      ]
     },
     "metadata": {},
     "execution_count": 55
    }
   ],
   "source": [
    "import numpy as np\n",
    "import urllib.request\n",
    "from tensorflow.keras.utils import to_categorical\n",
    "\n",
    "urllib.request.urlretrieve(\"http://www.gutenberg.org/files/11/11-0.txt\", filename=\"11-0.txt\")\n",
    "\n",
    "f = open('11-0.txt', 'rb')\n",
    "sentences = []\n",
    "for sentence in f:\n",
    "  sentence = sentence.strip() # strip() 을 통해 \\r, \\n 을 제거\n",
    "  sentence = sentence.lower() # 소문자화\n",
    "  sentence = sentence.decode('ascii', 'ignore') # \\x32\\x80\\x99 등과 같은 바이트 열 제거\n",
    "\n",
    "  if len(sentence) > 0:\n",
    "    sentences.append(sentence)\n",
    "\n",
    "f.close()\n",
    "\n",
    "sentences[:5]"
   ]
  },
  {
   "cell_type": "markdown",
   "source": [
    "원소가 문자열로 구성되어있지만 토큰화는 된 상태가 아니기에 하나의 문자열로 통일"
   ],
   "metadata": {
    "id": "kgN-5YQjRAD4"
   }
  },
  {
   "cell_type": "code",
   "source": [
    "total_data = ' '.join(sentences)\n",
    "print('문자열의 길이 또는 총 문자의 개수 : %d' % len(total_data))"
   ],
   "metadata": {
    "colab": {
     "base_uri": "https://localhost:8080/"
    },
    "id": "YwVP9ceXQ3bo",
    "outputId": "2a795526-9ba9-450d-90c7-f6a9c6e5cefb"
   },
   "execution_count": 56,
   "outputs": [
    {
     "output_type": "stream",
     "name": "stdout",
     "text": [
      "문자열의 길이 또는 총 문자의 개수 : 159484\n"
     ]
    }
   ]
  },
  {
   "cell_type": "code",
   "source": [
    "print(total_data[:200])"
   ],
   "metadata": {
    "colab": {
     "base_uri": "https://localhost:8080/"
    },
    "id": "QEKkpgSARKnR",
    "outputId": "9ccc0765-f70d-4972-f29c-ca05a618f445"
   },
   "execution_count": 57,
   "outputs": [
    {
     "output_type": "stream",
     "name": "stdout",
     "text": [
      "the project gutenberg ebook of alices adventures in wonderland, by lewis carroll this ebook is for the use of anyone anywhere in the united states and most other parts of the world at no cost and with\n"
     ]
    }
   ]
  },
  {
   "cell_type": "markdown",
   "source": [
    "위 문자열을 문자 집합으로 바꾸면"
   ],
   "metadata": {
    "id": "gvNsGRCbRjsX"
   }
  },
  {
   "cell_type": "code",
   "source": [
    "char_vocab = sorted(list(set(total_data)))\n",
    "print('문자 집합의 크기 :', len(char_vocab))\n",
    "vocab_size = len(char_vocab)"
   ],
   "metadata": {
    "colab": {
     "base_uri": "https://localhost:8080/"
    },
    "id": "U7VWC2XgRVLQ",
    "outputId": "a3cf0bf8-d376-4fe7-e8cd-16c1bf6ee892"
   },
   "execution_count": 65,
   "outputs": [
    {
     "output_type": "stream",
     "name": "stdout",
     "text": [
      "문자 집합의 크기 : 56\n"
     ]
    }
   ]
  },
  {
   "cell_type": "markdown",
   "source": [
    "문자에 고유한 정수 부여"
   ],
   "metadata": {
    "id": "_eNuLcxBRtDB"
   }
  },
  {
   "cell_type": "code",
   "source": [
    "char_to_index = dict((char, index) for index, char in enumerate(char_vocab))\n",
    "print('문자 집합 : ', char_to_index)"
   ],
   "metadata": {
    "colab": {
     "base_uri": "https://localhost:8080/"
    },
    "id": "OKvH4LcpRrCn",
    "outputId": "592b4de0-33fe-4c45-9983-ea8144f439c8"
   },
   "execution_count": 59,
   "outputs": [
    {
     "output_type": "stream",
     "name": "stdout",
     "text": [
      "문자 집합 :  {' ': 0, '!': 1, '\"': 2, '#': 3, '$': 4, '%': 5, \"'\": 6, '(': 7, ')': 8, '*': 9, ',': 10, '-': 11, '.': 12, '/': 13, '0': 14, '1': 15, '2': 16, '3': 17, '4': 18, '5': 19, '6': 20, '7': 21, '8': 22, '9': 23, ':': 24, ';': 25, '?': 26, '[': 27, ']': 28, '_': 29, 'a': 30, 'b': 31, 'c': 32, 'd': 33, 'e': 34, 'f': 35, 'g': 36, 'h': 37, 'i': 38, 'j': 39, 'k': 40, 'l': 41, 'm': 42, 'n': 43, 'o': 44, 'p': 45, 'q': 46, 'r': 47, 's': 48, 't': 49, 'u': 50, 'v': 51, 'w': 52, 'x': 53, 'y': 54, 'z': 55}\n"
     ]
    }
   ]
  },
  {
   "cell_type": "markdown",
   "source": [
    "정수로 부터 문자를 리턴하는 딕셔너리 제작"
   ],
   "metadata": {
    "id": "bX_VjVHCR84a"
   }
  },
  {
   "cell_type": "code",
   "source": [
    "index_to_char = {}\n",
    "for char, index in char_to_index.items():\n",
    "  index_to_char[index] = char"
   ],
   "metadata": {
    "id": "KV0RZmnYR2KH"
   },
   "execution_count": 60,
   "outputs": []
  },
  {
   "cell_type": "markdown",
   "source": [
    "샘플 제작"
   ],
   "metadata": {
    "id": "RE5YGS20SsMP"
   }
  },
  {
   "cell_type": "code",
   "source": [
    "seq_length = 60\n",
    "\n",
    "n_samples = int(np.floor((len(total_data)-1)/ seq_length))\n",
    "print('샘플의 수 : {}'.format(n_samples))"
   ],
   "metadata": {
    "colab": {
     "base_uri": "https://localhost:8080/"
    },
    "id": "URivekWBSILB",
    "outputId": "e89b8951-4d0e-415b-8065-9917c67a28a6"
   },
   "execution_count": 61,
   "outputs": [
    {
     "output_type": "stream",
     "name": "stdout",
     "text": [
      "샘플의 수 : 2658\n"
     ]
    }
   ]
  },
  {
   "cell_type": "code",
   "source": [
    "train_x = []\n",
    "train_y = []\n",
    "\n",
    "for i in range(n_samples):\n",
    "  # 0:60 -> 60:120 -> 120:180로 loop를 돌면서 문장 샘플을 1개씩 pick.\n",
    "  x_sample = total_data[i * seq_length: (i+1) * seq_length]\n",
    "\n",
    "  # 정수 인코딩\n",
    "  x_encoded = [char_to_index[c] for c in x_sample]\n",
    "  train_x.append(x_encoded)\n",
    "\n",
    "  # 오른쪽으로 한칸 쉬프트\n",
    "  y_sample = total_data[i * seq_length +1 : (i+1) * seq_length+1]\n",
    "  y_encoded = [char_to_index[c] for c in y_sample]\n",
    "  train_y.append(y_encoded)"
   ],
   "metadata": {
    "id": "7952QwzSS0Ob"
   },
   "execution_count": 62,
   "outputs": []
  },
  {
   "cell_type": "markdown",
   "source": [
    "train_x 와 train_y 의 첫번째 샘플을 출력하면"
   ],
   "metadata": {
    "id": "wqd7apa5Tomh"
   }
  },
  {
   "cell_type": "code",
   "source": [
    "print('x 데이터의 첫번째 샘플 :', train_x[0])\n",
    "print('y 데이터의 첫번째 샘플 :', train_y[0])\n",
    "\n",
    "print('-'*50)\n",
    "print('x 데이터의 첫번재 샘플 디코딩 :', [index_to_char[i] for i in train_x[0]])\n",
    "print('y 데이터의 첫번째 샘플 디코딩 :', [index_to_char[i] for i in train_y[0]])"
   ],
   "metadata": {
    "colab": {
     "base_uri": "https://localhost:8080/"
    },
    "id": "Hiks79LATDxe",
    "outputId": "7b494a3d-3e0c-4560-e355-77b924fdafe1"
   },
   "execution_count": 63,
   "outputs": [
    {
     "output_type": "stream",
     "name": "stdout",
     "text": [
      "x 데이터의 첫번째 샘플 : [49, 37, 34, 0, 45, 47, 44, 39, 34, 32, 49, 0, 36, 50, 49, 34, 43, 31, 34, 47, 36, 0, 34, 31, 44, 44, 40, 0, 44, 35, 0, 30, 41, 38, 32, 34, 48, 0, 30, 33, 51, 34, 43, 49, 50, 47, 34, 48, 0, 38, 43, 0, 52, 44, 43, 33, 34, 47, 41, 30]\n",
      "y 데이터의 첫번째 샘플 : [37, 34, 0, 45, 47, 44, 39, 34, 32, 49, 0, 36, 50, 49, 34, 43, 31, 34, 47, 36, 0, 34, 31, 44, 44, 40, 0, 44, 35, 0, 30, 41, 38, 32, 34, 48, 0, 30, 33, 51, 34, 43, 49, 50, 47, 34, 48, 0, 38, 43, 0, 52, 44, 43, 33, 34, 47, 41, 30, 43]\n",
      "--------------------------------------------------\n",
      "x 데이터의 첫번재 샘플 디코딩 : ['t', 'h', 'e', ' ', 'p', 'r', 'o', 'j', 'e', 'c', 't', ' ', 'g', 'u', 't', 'e', 'n', 'b', 'e', 'r', 'g', ' ', 'e', 'b', 'o', 'o', 'k', ' ', 'o', 'f', ' ', 'a', 'l', 'i', 'c', 'e', 's', ' ', 'a', 'd', 'v', 'e', 'n', 't', 'u', 'r', 'e', 's', ' ', 'i', 'n', ' ', 'w', 'o', 'n', 'd', 'e', 'r', 'l', 'a']\n",
      "y 데이터의 첫번째 샘플 디코딩 : ['h', 'e', ' ', 'p', 'r', 'o', 'j', 'e', 'c', 't', ' ', 'g', 'u', 't', 'e', 'n', 'b', 'e', 'r', 'g', ' ', 'e', 'b', 'o', 'o', 'k', ' ', 'o', 'f', ' ', 'a', 'l', 'i', 'c', 'e', 's', ' ', 'a', 'd', 'v', 'e', 'n', 't', 'u', 'r', 'e', 's', ' ', 'i', 'n', ' ', 'w', 'o', 'n', 'd', 'e', 'r', 'l', 'a', 'n']\n"
     ]
    }
   ]
  },
  {
   "cell_type": "markdown",
   "source": [
    "train_x와 train_y에 대하여 원-핫 인코딩 진행"
   ],
   "metadata": {
    "id": "HISZOWDMVsrj"
   }
  },
  {
   "cell_type": "code",
   "source": [
    "train_x = to_categorical(train_x)\n",
    "train_y = to_categorical(train_y)\n",
    "\n",
    "print('train_x의 크기', train_x.shape)\n",
    "print('train_y의 크기', train_y.shape)"
   ],
   "metadata": {
    "colab": {
     "base_uri": "https://localhost:8080/"
    },
    "id": "_kW0qiSTUH58",
    "outputId": "3a43a9d8-dded-40f5-cadb-2bad3fd2407a"
   },
   "execution_count": 64,
   "outputs": [
    {
     "output_type": "stream",
     "name": "stdout",
     "text": [
      "train_x의 크기 (2658, 60, 56)\n",
      "train_y의 크기 (2658, 60, 56)\n"
     ]
    }
   ]
  },
  {
   "cell_type": "code",
   "source": [
    "from tensorflow.keras.models import Sequential\n",
    "from tensorflow.keras.layers import Dense, LSTM, TimeDistributed\n",
    "\n",
    "hidden_units = 256\n",
    "\n",
    "model = Sequential()\n",
    "model.add(LSTM(hidden_units, input_shape=(None, train_x.shape[2]), return_sequences=True))\n",
    "model.add(LSTM(hidden_units, return_sequences=True))\n",
    "model.add(TimeDistributed(Dense(len(char_vocab), activation='softmax')))\n",
    "\n",
    "model.compile(loss='categorical_crossentropy', optimizer='adam', metrics=['accuracy'])\n",
    "model.fit(train_x, train_y, epochs=40, verbose=2)\n"
   ],
   "metadata": {
    "id": "TEjkHDC1V4Wv"
   },
   "execution_count": null,
   "outputs": []
  },
  {
   "cell_type": "code",
   "source": [
    "def sentence_generation(model, length):\n",
    "    # 문자에 대한 랜덤한 정수 생성\n",
    "    ix = [np.random.randint(vocab_size)]\n",
    "\n",
    "    # 랜덤한 정수로부터 맵핑되는 문자 생성\n",
    "    y_char = [index_to_char[ix[-1]]]\n",
    "    print(ix[-1],'번 문자',y_char[-1],'로 예측을 시작!')\n",
    "\n",
    "    # (1, length, 55) 크기의 X 생성. 즉, LSTM의 입력 시퀀스 생성\n",
    "    X = np.zeros((1, length, vocab_size))\n",
    "\n",
    "    for i in range(length):\n",
    "        # X[0][i][예측한 문자의 인덱스] = 1, 즉, 예측 문자를 다음 입력 시퀀스에 추가\n",
    "        X[0][i][ix[-1]] = 1\n",
    "        print(index_to_char[ix[-1]], end=\"\")\n",
    "        ix = np.argmax(model.predict(X[:, :i+1, :])[0], 1)\n",
    "        y_char.append(index_to_char[ix[-1]])\n",
    "    return ('').join(y_char)\n",
    "\n",
    "result = sentence_generation(model, 100)\n",
    "print(result)"
   ],
   "metadata": {
    "id": "gAIf1yg7X2F8"
   },
   "execution_count": null,
   "outputs": []
  },
  {
   "cell_type": "markdown",
   "source": [
    "# 문자 단위 RNN(Char RNN)으로 텍스트 생성하기\n"
   ],
   "metadata": {
    "id": "AQCdw2vv7W_B"
   }
  },
  {
   "cell_type": "code",
   "source": [
    "import numpy as np\n",
    "from tensorflow.keras.utils import to_categorical\n",
    "\n",
    "raw_text = '''\n",
    "I get on with life as a programmer,\n",
    "I like to contemplate beer.\n",
    "But when I start to daydream,\n",
    "My mind turns straight to wine.\n",
    "\n",
    "Do I love wine more than beer?\n",
    "\n",
    "I like to use words about beer.\n",
    "But when I stop my talking,\n",
    "My mind turns straight to wine.\n",
    "\n",
    "I hate bugs and errors.\n",
    "But I just think back to wine,\n",
    "And I'm happy once again.\n",
    "\n",
    "I like to hang out with programming and deep learning.\n",
    "But when left alone,\n",
    "My mind turns straight to wine.\n",
    "'''"
   ],
   "metadata": {
    "id": "5q2BBIya7Z4Z"
   },
   "execution_count": 19,
   "outputs": []
  },
  {
   "cell_type": "code",
   "source": [
    "tokens = raw_text.split()\n",
    "raw_text = ' '.join(tokens)\n",
    "print(raw_text)"
   ],
   "metadata": {
    "colab": {
     "base_uri": "https://localhost:8080/"
    },
    "id": "88zFeghd7f03",
    "outputId": "665ddf62-4c95-4fc6-8ea5-9ece3a1e3ac5"
   },
   "execution_count": 20,
   "outputs": [
    {
     "output_type": "stream",
     "name": "stdout",
     "text": [
      "I get on with life as a programmer, I like to contemplate beer. But when I start to daydream, My mind turns straight to wine. Do I love wine more than beer? I like to use words about beer. But when I stop my talking, My mind turns straight to wine. I hate bugs and errors. But I just think back to wine, And I'm happy once again. I like to hang out with programming and deep learning. But when left alone, My mind turns straight to wine.\n"
     ]
    }
   ]
  },
  {
   "cell_type": "code",
   "source": [
    "char_vocab = sorted(list(set(raw_text)))\n",
    "vocab_size = len(char_vocab)\n",
    "print('문자 집합 :', char_vocab)\n",
    "print('문자 집합의 크기 :', vocab_size)"
   ],
   "metadata": {
    "colab": {
     "base_uri": "https://localhost:8080/"
    },
    "id": "4Q2M3Fme7jTb",
    "outputId": "70ad2e03-4d17-47f9-9691-26d7db15567e"
   },
   "execution_count": 21,
   "outputs": [
    {
     "output_type": "stream",
     "name": "stdout",
     "text": [
      "문자 집합 : [' ', \"'\", ',', '.', '?', 'A', 'B', 'D', 'I', 'M', 'a', 'b', 'c', 'd', 'e', 'f', 'g', 'h', 'i', 'j', 'k', 'l', 'm', 'n', 'o', 'p', 'r', 's', 't', 'u', 'v', 'w', 'y']\n",
      "문자 집합의 크기 : 33\n"
     ]
    }
   ]
  },
  {
   "cell_type": "markdown",
   "source": [
    "문자에 인덱스 부여"
   ],
   "metadata": {
    "id": "HuRSJFHV76-t"
   }
  },
  {
   "cell_type": "code",
   "source": [
    "char_to_index = dict((char, index) for index, char in enumerate(char_vocab))\n",
    "print(char_to_index)"
   ],
   "metadata": {
    "colab": {
     "base_uri": "https://localhost:8080/"
    },
    "id": "Ow_CS76y74xB",
    "outputId": "6987b5b3-aad9-47ff-9159-7c34a05a59cb"
   },
   "execution_count": 22,
   "outputs": [
    {
     "output_type": "stream",
     "name": "stdout",
     "text": [
      "{' ': 0, \"'\": 1, ',': 2, '.': 3, '?': 4, 'A': 5, 'B': 6, 'D': 7, 'I': 8, 'M': 9, 'a': 10, 'b': 11, 'c': 12, 'd': 13, 'e': 14, 'f': 15, 'g': 16, 'h': 17, 'i': 18, 'j': 19, 'k': 20, 'l': 21, 'm': 22, 'n': 23, 'o': 24, 'p': 25, 'r': 26, 's': 27, 't': 28, 'u': 29, 'v': 30, 'w': 31, 'y': 32}\n"
     ]
    }
   ]
  },
  {
   "cell_type": "markdown",
   "source": [
    "입력 시퀀스의 길이가 10이 되도록 데이터를 구성. 예측 대상인 문자도 필요하므로 길이가 11이 되도록 데이터를 구성하면"
   ],
   "metadata": {
    "id": "KbZkMpTs9CNT"
   }
  },
  {
   "cell_type": "code",
   "source": [
    "length = 11\n",
    "sequences = []\n",
    "for i in range(length, len(raw_text)):\n",
    "  seq = raw_text[i-length:i]\n",
    "  sequences.append(seq)\n",
    "print('총 훈련 샘플의 수 :', len(sequences))"
   ],
   "metadata": {
    "colab": {
     "base_uri": "https://localhost:8080/"
    },
    "id": "LnXAREPc8Ily",
    "outputId": "b51dbeac-728c-4a65-ce3b-c5d6e76f5427"
   },
   "execution_count": 23,
   "outputs": [
    {
     "output_type": "stream",
     "name": "stdout",
     "text": [
      "총 훈련 샘플의 수 : 426\n"
     ]
    }
   ]
  },
  {
   "cell_type": "code",
   "source": [
    "sequences[:10]"
   ],
   "metadata": {
    "colab": {
     "base_uri": "https://localhost:8080/"
    },
    "id": "_JvqSaVS9-cX",
    "outputId": "9c42baa2-3d61-45e5-f142-577e23530b27"
   },
   "execution_count": 24,
   "outputs": [
    {
     "output_type": "execute_result",
     "data": {
      "text/plain": [
       "['I get on wi',\n",
       " ' get on wit',\n",
       " 'get on with',\n",
       " 'et on with ',\n",
       " 't on with l',\n",
       " ' on with li',\n",
       " 'on with lif',\n",
       " 'n with life',\n",
       " ' with life ',\n",
       " 'with life a']"
      ]
     },
     "metadata": {},
     "execution_count": 24
    }
   ]
  },
  {
   "cell_type": "markdown",
   "source": [
    "정수 인코딩 수행"
   ],
   "metadata": {
    "id": "2uHvN9ye-DfC"
   }
  },
  {
   "cell_type": "code",
   "source": [
    "encoded_sequences = []\n",
    "for sequence in sequences:\n",
    "  encoded_sequence = [char_to_index[char] for char in sequence]\n",
    "  encoded_sequences.append(encoded_sequence)\n",
    "encoded_sequences[:5]"
   ],
   "metadata": {
    "colab": {
     "base_uri": "https://localhost:8080/"
    },
    "id": "iKF2jTYD-AoL",
    "outputId": "0afa12b9-03b4-4205-8ae2-8035544154d3"
   },
   "execution_count": 25,
   "outputs": [
    {
     "output_type": "execute_result",
     "data": {
      "text/plain": [
       "[[8, 0, 16, 14, 28, 0, 24, 23, 0, 31, 18],\n",
       " [0, 16, 14, 28, 0, 24, 23, 0, 31, 18, 28],\n",
       " [16, 14, 28, 0, 24, 23, 0, 31, 18, 28, 17],\n",
       " [14, 28, 0, 24, 23, 0, 31, 18, 28, 17, 0],\n",
       " [28, 0, 24, 23, 0, 31, 18, 28, 17, 0, 21]]"
      ]
     },
     "metadata": {},
     "execution_count": 25
    }
   ]
  },
  {
   "cell_type": "markdown",
   "source": [
    "예측 대상 문자 분리 작업"
   ],
   "metadata": {
    "id": "iZsXo4Ka-mdG"
   }
  },
  {
   "cell_type": "code",
   "source": [
    "encoded_sequences = np.array(encoded_sequences)\n",
    "x_data = encoded_sequences[:, :-1]\n",
    "y_data = encoded_sequences[:, -1]\n",
    "\n",
    "print(x_data[:5])\n",
    "print(y_data[:5])"
   ],
   "metadata": {
    "colab": {
     "base_uri": "https://localhost:8080/"
    },
    "id": "em5gG6Td-g2v",
    "outputId": "c9ae6dac-9b64-4261-c77c-90c892827a5d"
   },
   "execution_count": 26,
   "outputs": [
    {
     "output_type": "stream",
     "name": "stdout",
     "text": [
      "[[ 8  0 16 14 28  0 24 23  0 31]\n",
      " [ 0 16 14 28  0 24 23  0 31 18]\n",
      " [16 14 28  0 24 23  0 31 18 28]\n",
      " [14 28  0 24 23  0 31 18 28 17]\n",
      " [28  0 24 23  0 31 18 28 17  0]]\n",
      "[18 28 17  0 21]\n"
     ]
    }
   ]
  },
  {
   "cell_type": "markdown",
   "source": [
    "x와 y에 대하여 원-핫 인코딩을 수행하면"
   ],
   "metadata": {
    "id": "htLWI9WX-3p5"
   }
  },
  {
   "cell_type": "code",
   "source": [
    "x_data_one_hot = [to_categorical(encoded, num_classes=vocab_size) for encoded in x_data]\n",
    "x_data_one_hot = np.array(x_data_one_hot)\n",
    "y_data_one_hot = to_categorical(y_data, num_classes=vocab_size)\n",
    "\n",
    "print(x_data_one_hot.shape)\n",
    "print(y_data_one_hot.shape)\n"
   ],
   "metadata": {
    "colab": {
     "base_uri": "https://localhost:8080/"
    },
    "id": "ZyMOX3bY-1z9",
    "outputId": "caffe427-cbbf-4764-f94f-0862814fd2c5"
   },
   "execution_count": 27,
   "outputs": [
    {
     "output_type": "stream",
     "name": "stdout",
     "text": [
      "(426, 10, 33)\n",
      "(426, 33)\n"
     ]
    }
   ]
  },
  {
   "cell_type": "markdown",
   "source": [
    "모델 설계하기"
   ],
   "metadata": {
    "id": "1ZpDCOyl_vmu"
   }
  },
  {
   "cell_type": "code",
   "source": [
    "from tensorflow.keras.models import Sequential\n",
    "from tensorflow.keras.layers import Dense, LSTM\n",
    "from tensorflow.keras.preprocessing.sequence import pad_sequences\n",
    "\n",
    "hidden_units = 64\n",
    "model = Sequential()\n",
    "model.add(LSTM(hidden_units, input_shape=(x_data_one_hot.shape[1], x_data_one_hot.shape[2])))\n",
    "model.add(Dense(vocab_size, activation='softmax'))\n",
    "model.compile(loss='categorical_crossentropy', optimizer='adam', metrics=['accuracy'])\n",
    "model.fit(x_data_one_hot, y_data_one_hot, epochs=100, verbose=2)"
   ],
   "metadata": {
    "colab": {
     "base_uri": "https://localhost:8080/"
    },
    "id": "P0U3fRxS_fTX",
    "outputId": "73ae01c6-cbf1-464b-a10d-47d73790bb34"
   },
   "execution_count": 28,
   "outputs": [
    {
     "output_type": "stream",
     "name": "stdout",
     "text": [
      "Epoch 1/100\n",
      "14/14 - 2s - loss: 3.4583 - accuracy: 0.1643 - 2s/epoch - 144ms/step\n",
      "Epoch 2/100\n",
      "14/14 - 0s - loss: 3.3312 - accuracy: 0.1972 - 73ms/epoch - 5ms/step\n",
      "Epoch 3/100\n",
      "14/14 - 0s - loss: 3.0720 - accuracy: 0.1972 - 69ms/epoch - 5ms/step\n",
      "Epoch 4/100\n",
      "14/14 - 0s - loss: 2.9869 - accuracy: 0.1972 - 97ms/epoch - 7ms/step\n",
      "Epoch 5/100\n",
      "14/14 - 0s - loss: 2.9653 - accuracy: 0.1972 - 106ms/epoch - 8ms/step\n",
      "Epoch 6/100\n",
      "14/14 - 0s - loss: 2.9380 - accuracy: 0.1972 - 87ms/epoch - 6ms/step\n",
      "Epoch 7/100\n",
      "14/14 - 0s - loss: 2.9239 - accuracy: 0.1972 - 76ms/epoch - 5ms/step\n",
      "Epoch 8/100\n",
      "14/14 - 0s - loss: 2.9123 - accuracy: 0.1972 - 76ms/epoch - 5ms/step\n",
      "Epoch 9/100\n",
      "14/14 - 0s - loss: 2.8846 - accuracy: 0.1972 - 83ms/epoch - 6ms/step\n",
      "Epoch 10/100\n",
      "14/14 - 0s - loss: 2.8683 - accuracy: 0.1972 - 84ms/epoch - 6ms/step\n",
      "Epoch 11/100\n",
      "14/14 - 0s - loss: 2.8443 - accuracy: 0.1972 - 71ms/epoch - 5ms/step\n",
      "Epoch 12/100\n",
      "14/14 - 0s - loss: 2.8184 - accuracy: 0.1972 - 75ms/epoch - 5ms/step\n",
      "Epoch 13/100\n",
      "14/14 - 0s - loss: 2.7913 - accuracy: 0.2394 - 74ms/epoch - 5ms/step\n",
      "Epoch 14/100\n",
      "14/14 - 0s - loss: 2.7555 - accuracy: 0.2019 - 74ms/epoch - 5ms/step\n",
      "Epoch 15/100\n",
      "14/14 - 0s - loss: 2.7094 - accuracy: 0.2347 - 90ms/epoch - 6ms/step\n",
      "Epoch 16/100\n",
      "14/14 - 0s - loss: 2.6707 - accuracy: 0.2207 - 102ms/epoch - 7ms/step\n",
      "Epoch 17/100\n",
      "14/14 - 0s - loss: 2.6285 - accuracy: 0.2629 - 117ms/epoch - 8ms/step\n",
      "Epoch 18/100\n",
      "14/14 - 0s - loss: 2.5760 - accuracy: 0.2770 - 142ms/epoch - 10ms/step\n",
      "Epoch 19/100\n",
      "14/14 - 0s - loss: 2.5478 - accuracy: 0.2723 - 127ms/epoch - 9ms/step\n",
      "Epoch 20/100\n",
      "14/14 - 0s - loss: 2.4862 - accuracy: 0.2723 - 98ms/epoch - 7ms/step\n",
      "Epoch 21/100\n",
      "14/14 - 0s - loss: 2.4378 - accuracy: 0.2911 - 101ms/epoch - 7ms/step\n",
      "Epoch 22/100\n",
      "14/14 - 0s - loss: 2.4007 - accuracy: 0.2981 - 133ms/epoch - 9ms/step\n",
      "Epoch 23/100\n",
      "14/14 - 0s - loss: 2.3485 - accuracy: 0.3498 - 113ms/epoch - 8ms/step\n",
      "Epoch 24/100\n",
      "14/14 - 0s - loss: 2.3073 - accuracy: 0.3404 - 99ms/epoch - 7ms/step\n",
      "Epoch 25/100\n",
      "14/14 - 0s - loss: 2.2504 - accuracy: 0.3685 - 123ms/epoch - 9ms/step\n",
      "Epoch 26/100\n",
      "14/14 - 0s - loss: 2.2053 - accuracy: 0.3732 - 109ms/epoch - 8ms/step\n",
      "Epoch 27/100\n",
      "14/14 - 0s - loss: 2.1659 - accuracy: 0.3732 - 114ms/epoch - 8ms/step\n",
      "Epoch 28/100\n",
      "14/14 - 0s - loss: 2.1247 - accuracy: 0.4014 - 114ms/epoch - 8ms/step\n",
      "Epoch 29/100\n",
      "14/14 - 0s - loss: 2.0986 - accuracy: 0.3944 - 97ms/epoch - 7ms/step\n",
      "Epoch 30/100\n",
      "14/14 - 0s - loss: 2.0438 - accuracy: 0.3826 - 92ms/epoch - 7ms/step\n",
      "Epoch 31/100\n",
      "14/14 - 0s - loss: 1.9842 - accuracy: 0.4155 - 112ms/epoch - 8ms/step\n",
      "Epoch 32/100\n",
      "14/14 - 0s - loss: 1.9546 - accuracy: 0.4413 - 117ms/epoch - 8ms/step\n",
      "Epoch 33/100\n",
      "14/14 - 0s - loss: 1.9018 - accuracy: 0.4718 - 119ms/epoch - 9ms/step\n",
      "Epoch 34/100\n",
      "14/14 - 0s - loss: 1.8439 - accuracy: 0.4648 - 120ms/epoch - 9ms/step\n",
      "Epoch 35/100\n",
      "14/14 - 0s - loss: 1.8048 - accuracy: 0.4953 - 116ms/epoch - 8ms/step\n",
      "Epoch 36/100\n",
      "14/14 - 0s - loss: 1.7898 - accuracy: 0.5188 - 110ms/epoch - 8ms/step\n",
      "Epoch 37/100\n",
      "14/14 - 0s - loss: 1.7443 - accuracy: 0.5094 - 103ms/epoch - 7ms/step\n",
      "Epoch 38/100\n",
      "14/14 - 0s - loss: 1.6933 - accuracy: 0.5516 - 124ms/epoch - 9ms/step\n",
      "Epoch 39/100\n",
      "14/14 - 0s - loss: 1.6467 - accuracy: 0.5657 - 145ms/epoch - 10ms/step\n",
      "Epoch 40/100\n",
      "14/14 - 0s - loss: 1.6320 - accuracy: 0.5798 - 99ms/epoch - 7ms/step\n",
      "Epoch 41/100\n",
      "14/14 - 0s - loss: 1.6067 - accuracy: 0.5587 - 103ms/epoch - 7ms/step\n",
      "Epoch 42/100\n",
      "14/14 - 0s - loss: 1.5555 - accuracy: 0.5915 - 104ms/epoch - 7ms/step\n",
      "Epoch 43/100\n",
      "14/14 - 0s - loss: 1.4910 - accuracy: 0.6338 - 114ms/epoch - 8ms/step\n",
      "Epoch 44/100\n",
      "14/14 - 0s - loss: 1.4649 - accuracy: 0.6362 - 146ms/epoch - 10ms/step\n",
      "Epoch 45/100\n",
      "14/14 - 0s - loss: 1.4214 - accuracy: 0.6315 - 108ms/epoch - 8ms/step\n",
      "Epoch 46/100\n",
      "14/14 - 0s - loss: 1.3789 - accuracy: 0.6596 - 105ms/epoch - 7ms/step\n",
      "Epoch 47/100\n",
      "14/14 - 0s - loss: 1.3381 - accuracy: 0.6784 - 107ms/epoch - 8ms/step\n",
      "Epoch 48/100\n",
      "14/14 - 0s - loss: 1.3091 - accuracy: 0.6901 - 90ms/epoch - 6ms/step\n",
      "Epoch 49/100\n",
      "14/14 - 0s - loss: 1.2805 - accuracy: 0.6878 - 85ms/epoch - 6ms/step\n",
      "Epoch 50/100\n",
      "14/14 - 0s - loss: 1.2430 - accuracy: 0.6714 - 126ms/epoch - 9ms/step\n",
      "Epoch 51/100\n",
      "14/14 - 0s - loss: 1.2229 - accuracy: 0.7160 - 144ms/epoch - 10ms/step\n",
      "Epoch 52/100\n",
      "14/14 - 0s - loss: 1.1855 - accuracy: 0.6972 - 95ms/epoch - 7ms/step\n",
      "Epoch 53/100\n",
      "14/14 - 0s - loss: 1.1572 - accuracy: 0.7277 - 112ms/epoch - 8ms/step\n",
      "Epoch 54/100\n",
      "14/14 - 0s - loss: 1.1171 - accuracy: 0.7300 - 110ms/epoch - 8ms/step\n",
      "Epoch 55/100\n",
      "14/14 - 0s - loss: 1.0884 - accuracy: 0.7394 - 104ms/epoch - 7ms/step\n",
      "Epoch 56/100\n",
      "14/14 - 0s - loss: 1.0536 - accuracy: 0.7559 - 121ms/epoch - 9ms/step\n",
      "Epoch 57/100\n",
      "14/14 - 0s - loss: 1.0342 - accuracy: 0.7653 - 115ms/epoch - 8ms/step\n",
      "Epoch 58/100\n",
      "14/14 - 0s - loss: 1.0141 - accuracy: 0.7676 - 94ms/epoch - 7ms/step\n",
      "Epoch 59/100\n",
      "14/14 - 0s - loss: 0.9794 - accuracy: 0.7793 - 140ms/epoch - 10ms/step\n",
      "Epoch 60/100\n",
      "14/14 - 0s - loss: 0.9579 - accuracy: 0.7629 - 100ms/epoch - 7ms/step\n",
      "Epoch 61/100\n",
      "14/14 - 0s - loss: 0.9334 - accuracy: 0.7817 - 78ms/epoch - 6ms/step\n",
      "Epoch 62/100\n",
      "14/14 - 0s - loss: 0.9048 - accuracy: 0.8052 - 99ms/epoch - 7ms/step\n",
      "Epoch 63/100\n",
      "14/14 - 0s - loss: 0.8806 - accuracy: 0.7887 - 111ms/epoch - 8ms/step\n",
      "Epoch 64/100\n",
      "14/14 - 0s - loss: 0.8489 - accuracy: 0.8216 - 103ms/epoch - 7ms/step\n",
      "Epoch 65/100\n",
      "14/14 - 0s - loss: 0.8424 - accuracy: 0.8216 - 109ms/epoch - 8ms/step\n",
      "Epoch 66/100\n",
      "14/14 - 0s - loss: 0.8083 - accuracy: 0.8263 - 105ms/epoch - 8ms/step\n",
      "Epoch 67/100\n",
      "14/14 - 0s - loss: 0.7896 - accuracy: 0.8310 - 113ms/epoch - 8ms/step\n",
      "Epoch 68/100\n",
      "14/14 - 0s - loss: 0.7667 - accuracy: 0.8427 - 130ms/epoch - 9ms/step\n",
      "Epoch 69/100\n",
      "14/14 - 0s - loss: 0.7493 - accuracy: 0.8427 - 110ms/epoch - 8ms/step\n",
      "Epoch 70/100\n",
      "14/14 - 0s - loss: 0.7286 - accuracy: 0.8427 - 108ms/epoch - 8ms/step\n",
      "Epoch 71/100\n",
      "14/14 - 0s - loss: 0.7011 - accuracy: 0.8709 - 120ms/epoch - 9ms/step\n",
      "Epoch 72/100\n",
      "14/14 - 0s - loss: 0.6796 - accuracy: 0.8756 - 110ms/epoch - 8ms/step\n",
      "Epoch 73/100\n",
      "14/14 - 0s - loss: 0.6584 - accuracy: 0.8709 - 101ms/epoch - 7ms/step\n",
      "Epoch 74/100\n",
      "14/14 - 0s - loss: 0.6417 - accuracy: 0.8826 - 126ms/epoch - 9ms/step\n",
      "Epoch 75/100\n",
      "14/14 - 0s - loss: 0.6172 - accuracy: 0.8897 - 111ms/epoch - 8ms/step\n",
      "Epoch 76/100\n",
      "14/14 - 0s - loss: 0.6060 - accuracy: 0.8803 - 113ms/epoch - 8ms/step\n",
      "Epoch 77/100\n",
      "14/14 - 0s - loss: 0.5937 - accuracy: 0.8897 - 136ms/epoch - 10ms/step\n",
      "Epoch 78/100\n",
      "14/14 - 0s - loss: 0.5664 - accuracy: 0.8991 - 107ms/epoch - 8ms/step\n",
      "Epoch 79/100\n",
      "14/14 - 0s - loss: 0.5513 - accuracy: 0.9178 - 100ms/epoch - 7ms/step\n",
      "Epoch 80/100\n",
      "14/14 - 0s - loss: 0.5361 - accuracy: 0.9108 - 115ms/epoch - 8ms/step\n",
      "Epoch 81/100\n",
      "14/14 - 0s - loss: 0.5166 - accuracy: 0.9296 - 121ms/epoch - 9ms/step\n",
      "Epoch 82/100\n",
      "14/14 - 0s - loss: 0.5034 - accuracy: 0.9272 - 111ms/epoch - 8ms/step\n",
      "Epoch 83/100\n",
      "14/14 - 0s - loss: 0.4971 - accuracy: 0.9202 - 108ms/epoch - 8ms/step\n",
      "Epoch 84/100\n",
      "14/14 - 0s - loss: 0.4762 - accuracy: 0.9202 - 103ms/epoch - 7ms/step\n",
      "Epoch 85/100\n",
      "14/14 - 0s - loss: 0.4743 - accuracy: 0.9343 - 117ms/epoch - 8ms/step\n",
      "Epoch 86/100\n",
      "14/14 - 0s - loss: 0.4589 - accuracy: 0.9413 - 127ms/epoch - 9ms/step\n",
      "Epoch 87/100\n",
      "14/14 - 0s - loss: 0.4450 - accuracy: 0.9366 - 104ms/epoch - 7ms/step\n",
      "Epoch 88/100\n",
      "14/14 - 0s - loss: 0.4160 - accuracy: 0.9531 - 109ms/epoch - 8ms/step\n",
      "Epoch 89/100\n",
      "14/14 - 0s - loss: 0.4031 - accuracy: 0.9484 - 110ms/epoch - 8ms/step\n",
      "Epoch 90/100\n",
      "14/14 - 0s - loss: 0.3966 - accuracy: 0.9484 - 110ms/epoch - 8ms/step\n",
      "Epoch 91/100\n",
      "14/14 - 0s - loss: 0.3861 - accuracy: 0.9507 - 111ms/epoch - 8ms/step\n",
      "Epoch 92/100\n",
      "14/14 - 0s - loss: 0.3747 - accuracy: 0.9577 - 89ms/epoch - 6ms/step\n",
      "Epoch 93/100\n",
      "14/14 - 0s - loss: 0.3713 - accuracy: 0.9577 - 101ms/epoch - 7ms/step\n",
      "Epoch 94/100\n",
      "14/14 - 0s - loss: 0.3554 - accuracy: 0.9624 - 136ms/epoch - 10ms/step\n",
      "Epoch 95/100\n",
      "14/14 - 0s - loss: 0.3440 - accuracy: 0.9624 - 109ms/epoch - 8ms/step\n",
      "Epoch 96/100\n",
      "14/14 - 0s - loss: 0.3328 - accuracy: 0.9671 - 106ms/epoch - 8ms/step\n",
      "Epoch 97/100\n",
      "14/14 - 0s - loss: 0.3238 - accuracy: 0.9718 - 115ms/epoch - 8ms/step\n",
      "Epoch 98/100\n",
      "14/14 - 0s - loss: 0.3235 - accuracy: 0.9624 - 114ms/epoch - 8ms/step\n",
      "Epoch 99/100\n",
      "14/14 - 0s - loss: 0.3033 - accuracy: 0.9742 - 106ms/epoch - 8ms/step\n",
      "Epoch 100/100\n",
      "14/14 - 0s - loss: 0.3033 - accuracy: 0.9718 - 112ms/epoch - 8ms/step\n"
     ]
    },
    {
     "output_type": "execute_result",
     "data": {
      "text/plain": [
       "<keras.callbacks.History at 0x7fe5d04a4d10>"
      ]
     },
     "metadata": {},
     "execution_count": 28
    }
   ]
  },
  {
   "cell_type": "code",
   "source": [
    "def sentence_generation(model, char_to_index, seq_length, seed_text, n):\n",
    "  init_text = seed_text\n",
    "  sentence = ''\n",
    "\n",
    "  for _ in range(n):\n",
    "    encoded = [char_to_index[char] for char in seed_text]\n",
    "    encoded = pad_sequences([encoded], maxlen=seq_length, padding='pre')\n",
    "    encoded = to_categorical(encoded, num_classes=len(char_to_index))\n",
    "\n",
    "    result = model.predict(encoded, verbose=0)\n",
    "    result = np.argmax(result, axis=1)\n",
    "\n",
    "    for char, index in char_to_index.items():\n",
    "      if index == result:\n",
    "        break\n",
    "\n",
    "    seed_text = seed_text + char\n",
    "\n",
    "    sentence = sentence + char\n",
    "\n",
    "  sentence = init_text + sentence\n",
    "  return sentence"
   ],
   "metadata": {
    "id": "HdgoKBgnAkmf"
   },
   "execution_count": 29,
   "outputs": []
  },
  {
   "cell_type": "code",
   "source": [
    "print(sentence_generation(model, char_to_index, 10, 'I get on w', 80))"
   ],
   "metadata": {
    "colab": {
     "base_uri": "https://localhost:8080/"
    },
    "id": "3Fxq_kKFBeN6",
    "outputId": "4866669d-96c7-46b6-f40d-62a2f23dee31"
   },
   "execution_count": 31,
   "outputs": [
    {
     "output_type": "stream",
     "name": "stdout",
     "text": [
      "I get on with life as a programmer, I like to use words about beer. But when I stop my tal\n"
     ]
    }
   ]
  },
  {
   "cell_type": "markdown",
   "source": [
    "훈련 데이터에서는 연속적으로 나온 적인 없는 두 문장임에도 모델이 임의로 생성함"
   ],
   "metadata": {
    "id": "BvQsDvdOCNAh"
   }
  }
 ]
}