{
 "cells": [
  {
   "cell_type": "markdown",
   "source": [
    "# 로이터 뉴스 분류하기 (Reuters News Classfication)"
   ],
   "metadata": {
    "collapsed": false
   }
  },
  {
   "cell_type": "code",
   "execution_count": 2,
   "metadata": {
    "collapsed": true
   },
   "outputs": [],
   "source": [
    "import numpy as np\n",
    "import seaborn as sns\n",
    "import matplotlib.pyplot as plt\n",
    "from tensorflow.keras.datasets import reuters"
   ]
  },
  {
   "cell_type": "code",
   "execution_count": 3,
   "outputs": [
    {
     "name": "stdout",
     "output_type": "stream",
     "text": [
      "Downloading data from https://storage.googleapis.com/tensorflow/tf-keras-datasets/reuters.npz\n",
      "2113536/2110848 [==============================] - 0s 0us/step\n",
      "훈련용 뉴스 기사 : 8982\n",
      "테스트용 뉴스 기사 : 2246\n",
      "카테고리 :  46\n"
     ]
    },
    {
     "name": "stderr",
     "output_type": "stream",
     "text": [
      "C:\\Users\\kwon_notebook\\AppData\\Roaming\\Python\\Python37\\site-packages\\tensorflow_core\\python\\keras\\datasets\\reuters.py:113: VisibleDeprecationWarning: Creating an ndarray from ragged nested sequences (which is a list-or-tuple of lists-or-tuples-or ndarrays with different lengths or shapes) is deprecated. If you meant to do this, you must specify 'dtype=object' when creating the ndarray\n",
      "  x_train, y_train = np.array(xs[:idx]), np.array(labels[:idx])\n",
      "C:\\Users\\kwon_notebook\\AppData\\Roaming\\Python\\Python37\\site-packages\\tensorflow_core\\python\\keras\\datasets\\reuters.py:114: VisibleDeprecationWarning: Creating an ndarray from ragged nested sequences (which is a list-or-tuple of lists-or-tuples-or ndarrays with different lengths or shapes) is deprecated. If you meant to do this, you must specify 'dtype=object' when creating the ndarray\n",
      "  x_test, y_test = np.array(xs[idx:]), np.array(labels[idx:])\n"
     ]
    }
   ],
   "source": [
    "(x_train, y_train), (x_test, y_test) = reuters.load_data(num_words=None, test_split=0.2)\n",
    "\n",
    "print('훈련용 뉴스 기사 :', len(x_train))\n",
    "print('테스트용 뉴스 기사 :', len(x_test))\n",
    "num_classes = len(set(y_train))\n",
    "print('카테고리 : ', num_classes)"
   ],
   "metadata": {
    "collapsed": false,
    "pycharm": {
     "name": "#%%\n"
    }
   }
  },
  {
   "cell_type": "code",
   "execution_count": 5,
   "outputs": [
    {
     "name": "stdout",
     "output_type": "stream",
     "text": [
      "첫번째 훈련용 뉴스 기사 : [1, 27595, 28842, 8, 43, 10, 447, 5, 25, 207, 270, 5, 3095, 111, 16, 369, 186, 90, 67, 7, 89, 5, 19, 102, 6, 19, 124, 15, 90, 67, 84, 22, 482, 26, 7, 48, 4, 49, 8, 864, 39, 209, 154, 6, 151, 6, 83, 11, 15, 22, 155, 11, 15, 7, 48, 9, 4579, 1005, 504, 6, 258, 6, 272, 11, 15, 22, 134, 44, 11, 15, 16, 8, 197, 1245, 90, 67, 52, 29, 209, 30, 32, 132, 6, 109, 15, 17, 12]\n",
      "첫번째 훈련용 뉴스 기사의 레이블 : 3\n"
     ]
    }
   ],
   "source": [
    "print('첫번째 훈련용 뉴스 기사 :', x_train[0])\n",
    "print('첫번째 훈련용 뉴스 기사의 레이블 :', y_train[0])"
   ],
   "metadata": {
    "collapsed": false,
    "pycharm": {
     "name": "#%%\n"
    }
   }
  },
  {
   "cell_type": "code",
   "execution_count": 7,
   "outputs": [
    {
     "name": "stdout",
     "output_type": "stream",
     "text": [
      "뉴스 기사의 최대 길이 :  2376\n",
      "뉴스 기사의 평균 길이 :  145.5398574927633\n"
     ]
    },
    {
     "data": {
      "text/plain": "<Figure size 432x288 with 1 Axes>",
      "image/png": "[encoded data removed]"
     },
     "metadata": {
      "needs_background": "light"
     },
     "output_type": "display_data"
    }
   ],
   "source": [
    "print('뉴스 기사의 최대 길이 : ', max(len(sample) for sample in x_train))\n",
    "print('뉴스 기사의 평균 길이 : ', sum(len(sample) for sample in x_train) / len(x_train))\n",
    "\n",
    "plt.hist([len(sample) for sample in x_train], bins=50)\n",
    "plt.xlabel('length of samples')\n",
    "plt.ylabel('number of samples')\n",
    "plt.show()"
   ],
   "metadata": {
    "collapsed": false,
    "pycharm": {
     "name": "#%%\n"
    }
   }
  },
  {
   "cell_type": "code",
   "execution_count": 8,
   "outputs": [
    {
     "name": "stderr",
     "output_type": "stream",
     "text": [
      "C:\\Users\\kwon_notebook\\anaconda3\\envs\\tensorNN\\lib\\site-packages\\seaborn\\_decorators.py:43: FutureWarning: Pass the following variable as a keyword arg: x. From version 0.12, the only valid positional argument will be `data`, and passing other arguments without an explicit keyword will result in an error or misinterpretation.\n",
      "  FutureWarning\n"
     ]
    },
    {
     "data": {
      "text/plain": "<AxesSubplot:ylabel='count'>"
     },
     "execution_count": 8,
     "metadata": {},
     "output_type": "execute_result"
    },
    {
     "data": {
      "text/plain": "<Figure size 864x360 with 1 Axes>",
      "image/png": "[encoded data removed]"
     },
     "metadata": {
      "needs_background": "light"
     },
     "output_type": "display_data"
    }
   ],
   "source": [
    "fig, axe = plt.subplots(ncols=1)\n",
    "fig.set_size_inches(12,5)\n",
    "sns.countplot(y_train)"
   ],
   "metadata": {
    "collapsed": false,
    "pycharm": {
     "name": "#%%\n"
    }
   }
  },
  {
   "cell_type": "code",
   "execution_count": 12,
   "outputs": [
    {
     "name": "stdout",
     "output_type": "stream",
     "text": [
      "Downloading data from https://storage.googleapis.com/tensorflow/tf-keras-datasets/reuters_word_index.json\n",
      "557056/550378 [==============================] - 0s 0us/step\n"
     ]
    }
   ],
   "source": [
    "word_to_index = reuters.get_word_index()"
   ],
   "metadata": {
    "collapsed": false,
    "pycharm": {
     "name": "#%%\n"
    }
   }
  },
  {
   "cell_type": "code",
   "execution_count": 14,
   "outputs": [],
   "source": [
    "index_to_word = {}\n",
    "for key, value in word_to_index.items():\n",
    "    index_to_word[value+3] = key"
   ],
   "metadata": {
    "collapsed": false,
    "pycharm": {
     "name": "#%%\n"
    }
   }
  },
  {
   "cell_type": "code",
   "execution_count": 15,
   "outputs": [
    {
     "name": "stdout",
     "output_type": "stream",
     "text": [
      "빈도수 상위 1번 단어 : the\n"
     ]
    }
   ],
   "source": [
    "print('빈도수 상위 1번 단어 :', index_to_word[4])"
   ],
   "metadata": {
    "collapsed": false,
    "pycharm": {
     "name": "#%%\n"
    }
   }
  },
  {
   "cell_type": "code",
   "execution_count": 16,
   "outputs": [
    {
     "name": "stdout",
     "output_type": "stream",
     "text": [
      "빈도수 상위 128등 단어 : tax\n"
     ]
    }
   ],
   "source": [
    "print('빈도수 상위 128등 단어 :', index_to_word[131])"
   ],
   "metadata": {
    "collapsed": false,
    "pycharm": {
     "name": "#%%\n"
    }
   }
  },
  {
   "cell_type": "markdown",
   "source": [
    "로이터 자료는 저장된 값에 +3을 해야 실제 매핑된 값임"
   ],
   "metadata": {
    "collapsed": false
   }
  },
  {
   "cell_type": "code",
   "execution_count": 17,
   "outputs": [
    {
     "name": "stdout",
     "output_type": "stream",
     "text": [
      "<sos> mcgrath rentcorp said as a result of its december acquisition of space co it expects earnings per share in 1987 of 1 15 to 1 30 dlrs per share up from 70 cts in 1986 the company said pretax net should rise to nine to 10 mln dlrs from six mln dlrs in 1986 and rental operation revenues to 19 to 22 mln dlrs from 12 5 mln dlrs it said cash flow per share this year should be 2 50 to three dlrs reuter 3\n"
     ]
    }
   ],
   "source": [
    "for index, token in enumerate((\"<pad>\", \"<sos>\", \"<unk>\")):\n",
    "    index_to_word[index] = token\n",
    "\n",
    "print(' '.join([index_to_word[index] for index in x_train[0]]))"
   ],
   "metadata": {
    "collapsed": false,
    "pycharm": {
     "name": "#%%\n"
    }
   }
  },
  {
   "cell_type": "markdown",
   "source": [
    "# LSTM으로 로이터 뉴스 분류"
   ],
   "metadata": {
    "collapsed": false
   }
  },
  {
   "cell_type": "code",
   "execution_count": 18,
   "outputs": [
    {
     "name": "stderr",
     "output_type": "stream",
     "text": [
      "C:\\Users\\kwon_notebook\\AppData\\Roaming\\Python\\Python37\\site-packages\\tensorflow_core\\python\\keras\\datasets\\reuters.py:113: VisibleDeprecationWarning: Creating an ndarray from ragged nested sequences (which is a list-or-tuple of lists-or-tuples-or ndarrays with different lengths or shapes) is deprecated. If you meant to do this, you must specify 'dtype=object' when creating the ndarray\n",
      "  x_train, y_train = np.array(xs[:idx]), np.array(labels[:idx])\n",
      "C:\\Users\\kwon_notebook\\AppData\\Roaming\\Python\\Python37\\site-packages\\tensorflow_core\\python\\keras\\datasets\\reuters.py:114: VisibleDeprecationWarning: Creating an ndarray from ragged nested sequences (which is a list-or-tuple of lists-or-tuples-or ndarrays with different lengths or shapes) is deprecated. If you meant to do this, you must specify 'dtype=object' when creating the ndarray\n",
      "  x_test, y_test = np.array(xs[idx:]), np.array(labels[idx:])\n"
     ]
    }
   ],
   "source": [
    "from tensorflow.keras.models import Sequential\n",
    "from tensorflow.keras.layers import Dense, LSTM, Embedding\n",
    "from tensorflow.keras.preprocessing.sequence import pad_sequences\n",
    "from tensorflow.keras.utils import to_categorical\n",
    "from tensorflow.keras.callbacks import EarlyStopping, ModelCheckpoint\n",
    "from tensorflow.keras.models import load_model\n",
    "\n",
    "vocab_size = 1000\n",
    "max_len = 100\n",
    "\n",
    "(x_train, y_train), (x_test, y_test) = reuters.load_data(num_words=vocab_size, test_split=0.2)\n",
    "\n",
    "x_train = pad_sequences(x_train, maxlen=max_len)\n",
    "x_test = pad_sequences(x_test, maxlen=max_len)\n",
    "\n",
    "y_train = to_categorical(y_train)\n",
    "y_test = to_categorical(y_test)"
   ],
   "metadata": {
    "collapsed": false,
    "pycharm": {
     "name": "#%%\n"
    }
   }
  },
  {
   "cell_type": "code",
   "execution_count": 19,
   "outputs": [
    {
     "name": "stdout",
     "output_type": "stream",
     "text": [
      "WARNING:tensorflow:From C:\\Users\\kwon_notebook\\AppData\\Roaming\\Python\\Python37\\site-packages\\tensorflow_core\\python\\keras\\initializers.py:119: calling RandomUniform.__init__ (from tensorflow.python.ops.init_ops) with dtype is deprecated and will be removed in a future version.\n",
      "Instructions for updating:\n",
      "Call initializer instance with the dtype argument instead of passing it to the constructor\n",
      "WARNING:tensorflow:From C:\\Users\\kwon_notebook\\AppData\\Roaming\\Python\\Python37\\site-packages\\tensorflow_core\\python\\ops\\resource_variable_ops.py:1630: calling BaseResourceVariable.__init__ (from tensorflow.python.ops.resource_variable_ops) with constraint is deprecated and will be removed in a future version.\n",
      "Instructions for updating:\n",
      "If using Keras pass *_constraint arguments to layers.\n",
      "WARNING:tensorflow:From C:\\Users\\kwon_notebook\\AppData\\Roaming\\Python\\Python37\\site-packages\\tensorflow_core\\python\\ops\\math_grad.py:1424: where (from tensorflow.python.ops.array_ops) is deprecated and will be removed in a future version.\n",
      "Instructions for updating:\n",
      "Use tf.where in 2.0, which has the same broadcast rule as np.where\n",
      "Train on 8982 samples, validate on 2246 samples\n",
      "Epoch 1/30\n",
      "8960/8982 [============================>.] - ETA: 0s - loss: 2.6331 - acc: 0.3334\n",
      "Epoch 00001: val_acc improved from -inf to 0.36198, saving model to best_model.h5\n",
      "8982/8982 [==============================] - 25s 3ms/sample - loss: 2.6317 - acc: 0.3333 - val_loss: 2.3803 - val_acc: 0.3620\n",
      "Epoch 2/30\n",
      "8960/8982 [============================>.] - ETA: 0s - loss: 2.1058 - acc: 0.4440\n",
      "Epoch 00002: val_acc improved from 0.36198 to 0.50267, saving model to best_model.h5\n",
      "8982/8982 [==============================] - 26s 3ms/sample - loss: 2.1049 - acc: 0.4443 - val_loss: 1.8920 - val_acc: 0.5027\n",
      "Epoch 3/30\n",
      "8960/8982 [============================>.] - ETA: 0s - loss: 1.8230 - acc: 0.5146\n",
      "Epoch 00003: val_acc did not improve from 0.50267\n",
      "8982/8982 [==============================] - 31s 3ms/sample - loss: 1.8231 - acc: 0.5144 - val_loss: 2.0071 - val_acc: 0.4622\n",
      "Epoch 4/30\n",
      "8960/8982 [============================>.] - ETA: 0s - loss: 1.7576 - acc: 0.5394\n",
      "Epoch 00004: val_acc improved from 0.50267 to 0.55610, saving model to best_model.h5\n",
      "8982/8982 [==============================] - 33s 4ms/sample - loss: 1.7580 - acc: 0.5394 - val_loss: 1.7277 - val_acc: 0.5561\n",
      "Epoch 5/30\n",
      "8960/8982 [============================>.] - ETA: 0s - loss: 1.6537 - acc: 0.5725\n",
      "Epoch 00005: val_acc improved from 0.55610 to 0.57391, saving model to best_model.h5\n",
      "8982/8982 [==============================] - 31s 3ms/sample - loss: 1.6544 - acc: 0.5726 - val_loss: 1.6755 - val_acc: 0.5739\n",
      "Epoch 6/30\n",
      "8960/8982 [============================>.] - ETA: 0s - loss: 1.5500 - acc: 0.6028\n",
      "Epoch 00006: val_acc improved from 0.57391 to 0.59973, saving model to best_model.h5\n",
      "8982/8982 [==============================] - 31s 3ms/sample - loss: 1.5510 - acc: 0.6026 - val_loss: 1.5709 - val_acc: 0.5997\n",
      "Epoch 7/30\n",
      "8960/8982 [============================>.] - ETA: 0s - loss: 1.4343 - acc: 0.6296\n",
      "Epoch 00007: val_acc improved from 0.59973 to 0.62645, saving model to best_model.h5\n",
      "8982/8982 [==============================] - 31s 3ms/sample - loss: 1.4338 - acc: 0.6298 - val_loss: 1.4888 - val_acc: 0.6264\n",
      "Epoch 8/30\n",
      "8960/8982 [============================>.] - ETA: 0s - loss: 1.3405 - acc: 0.6497\n",
      "Epoch 00008: val_acc did not improve from 0.62645\n",
      "8982/8982 [==============================] - 33s 4ms/sample - loss: 1.3393 - acc: 0.6502 - val_loss: 1.4887 - val_acc: 0.6211\n",
      "Epoch 9/30\n",
      "8960/8982 [============================>.] - ETA: 0s - loss: 1.2794 - acc: 0.6698\n",
      "Epoch 00009: val_acc improved from 0.62645 to 0.64782, saving model to best_model.h5\n",
      "8982/8982 [==============================] - 32s 4ms/sample - loss: 1.2800 - acc: 0.6696 - val_loss: 1.3879 - val_acc: 0.6478\n",
      "Epoch 10/30\n",
      "8960/8982 [============================>.] - ETA: 0s - loss: 1.2090 - acc: 0.6913\n",
      "Epoch 00010: val_acc did not improve from 0.64782\n",
      "8982/8982 [==============================] - 33s 4ms/sample - loss: 1.2089 - acc: 0.6913 - val_loss: 1.3737 - val_acc: 0.6465\n",
      "Epoch 11/30\n",
      "8960/8982 [============================>.] - ETA: 0s - loss: 1.1491 - acc: 0.7061\n",
      "Epoch 00011: val_acc improved from 0.64782 to 0.66607, saving model to best_model.h5\n",
      "8982/8982 [==============================] - 35s 4ms/sample - loss: 1.1504 - acc: 0.7059 - val_loss: 1.3664 - val_acc: 0.6661\n",
      "Epoch 12/30\n",
      "8960/8982 [============================>.] - ETA: 0s - loss: 1.0918 - acc: 0.7203\n",
      "Epoch 00012: val_acc improved from 0.66607 to 0.67587, saving model to best_model.h5\n",
      "8982/8982 [==============================] - 33s 4ms/sample - loss: 1.0920 - acc: 0.7200 - val_loss: 1.2897 - val_acc: 0.6759\n",
      "Epoch 13/30\n",
      "8960/8982 [============================>.] - ETA: 0s - loss: 1.0421 - acc: 0.7355\n",
      "Epoch 00013: val_acc improved from 0.67587 to 0.68388, saving model to best_model.h5\n",
      "8982/8982 [==============================] - 33s 4ms/sample - loss: 1.0414 - acc: 0.7357 - val_loss: 1.2733 - val_acc: 0.6839\n",
      "Epoch 14/30\n",
      "8960/8982 [============================>.] - ETA: 0s - loss: 0.9873 - acc: 0.7462\n",
      "Epoch 00014: val_acc did not improve from 0.68388\n",
      "8982/8982 [==============================] - 32s 4ms/sample - loss: 0.9882 - acc: 0.7460 - val_loss: 1.2974 - val_acc: 0.6794\n",
      "Epoch 15/30\n",
      "8960/8982 [============================>.] - ETA: 0s - loss: 0.9508 - acc: 0.7583\n",
      "Epoch 00015: val_acc improved from 0.68388 to 0.68923, saving model to best_model.h5\n",
      "8982/8982 [==============================] - 32s 4ms/sample - loss: 0.9507 - acc: 0.7582 - val_loss: 1.2470 - val_acc: 0.6892\n",
      "Epoch 16/30\n",
      "8960/8982 [============================>.] - ETA: 0s - loss: 0.9111 - acc: 0.7714\n",
      "Epoch 00016: val_acc improved from 0.68923 to 0.69546, saving model to best_model.h5\n",
      "8982/8982 [==============================] - 33s 4ms/sample - loss: 0.9106 - acc: 0.7715 - val_loss: 1.2515 - val_acc: 0.6955\n",
      "Epoch 17/30\n",
      "8960/8982 [============================>.] - ETA: 0s - loss: 0.8751 - acc: 0.7808\n",
      "Epoch 00017: val_acc improved from 0.69546 to 0.70392, saving model to best_model.h5\n",
      "8982/8982 [==============================] - 37s 4ms/sample - loss: 0.8756 - acc: 0.7804 - val_loss: 1.2408 - val_acc: 0.7039\n",
      "Epoch 18/30\n",
      "8960/8982 [============================>.] - ETA: 0s - loss: 0.8481 - acc: 0.7856\n",
      "Epoch 00018: val_acc improved from 0.70392 to 0.70703, saving model to best_model.h5\n",
      "8982/8982 [==============================] - 37s 4ms/sample - loss: 0.8483 - acc: 0.7856 - val_loss: 1.2444 - val_acc: 0.7070\n",
      "Epoch 19/30\n",
      "8960/8982 [============================>.] - ETA: 0s - loss: 0.8125 - acc: 0.7971\n",
      "Epoch 00019: val_acc did not improve from 0.70703\n",
      "8982/8982 [==============================] - 33s 4ms/sample - loss: 0.8124 - acc: 0.7970 - val_loss: 1.2562 - val_acc: 0.7035\n",
      "Epoch 20/30\n",
      "8960/8982 [============================>.] - ETA: 0s - loss: 0.7703 - acc: 0.8060\n",
      "Epoch 00020: val_acc did not improve from 0.70703\n",
      "8982/8982 [==============================] - 32s 4ms/sample - loss: 0.7709 - acc: 0.8056 - val_loss: 1.2666 - val_acc: 0.6999\n",
      "Epoch 21/30\n",
      "8960/8982 [============================>.] - ETA: 0s - loss: 0.7584 - acc: 0.8071\n",
      "Epoch 00021: val_acc did not improve from 0.70703\n",
      "8982/8982 [==============================] - 32s 4ms/sample - loss: 0.7585 - acc: 0.8069 - val_loss: 1.2489 - val_acc: 0.7048\n",
      "Epoch 00021: early stopping\n"
     ]
    }
   ],
   "source": [
    "embedding_dim = 128\n",
    "hidden_units = 128\n",
    "num_classes = 46\n",
    "\n",
    "model = Sequential()\n",
    "model.add(Embedding(vocab_size, embedding_dim))\n",
    "model.add(LSTM(hidden_units))\n",
    "model.add(Dense(num_classes, activation='softmax'))\n",
    "\n",
    "es = EarlyStopping(monitor='val_loss', mode='min', verbose=1, patience=4)\n",
    "mc = ModelCheckpoint('best_model.h5', monitor='val_acc', mode='max', verbose=1, save_best_only=True)\n",
    "\n",
    "model.compile(\n",
    "    loss='categorical_crossentropy',\n",
    "    optimizer='adam',\n",
    "    metrics=['acc']\n",
    ")\n",
    "history = model.fit(x_train, y_train, batch_size=128, epochs=30, callbacks=[es, mc], validation_data=(x_test, y_test))"
   ],
   "metadata": {
    "collapsed": false,
    "pycharm": {
     "name": "#%%\n"
    }
   }
  },
  {
   "cell_type": "code",
   "execution_count": 20,
   "outputs": [
    {
     "name": "stdout",
     "output_type": "stream",
     "text": [
      "WARNING:tensorflow:From C:\\Users\\kwon_notebook\\AppData\\Roaming\\Python\\Python37\\site-packages\\tensorflow_core\\python\\ops\\init_ops.py:97: calling GlorotUniform.__init__ (from tensorflow.python.ops.init_ops) with dtype is deprecated and will be removed in a future version.\n",
      "Instructions for updating:\n",
      "Call initializer instance with the dtype argument instead of passing it to the constructor\n",
      "WARNING:tensorflow:From C:\\Users\\kwon_notebook\\AppData\\Roaming\\Python\\Python37\\site-packages\\tensorflow_core\\python\\ops\\init_ops.py:97: calling Orthogonal.__init__ (from tensorflow.python.ops.init_ops) with dtype is deprecated and will be removed in a future version.\n",
      "Instructions for updating:\n",
      "Call initializer instance with the dtype argument instead of passing it to the constructor\n",
      "WARNING:tensorflow:From C:\\Users\\kwon_notebook\\AppData\\Roaming\\Python\\Python37\\site-packages\\tensorflow_core\\python\\ops\\init_ops.py:97: calling Zeros.__init__ (from tensorflow.python.ops.init_ops) with dtype is deprecated and will be removed in a future version.\n",
      "Instructions for updating:\n",
      "Call initializer instance with the dtype argument instead of passing it to the constructor\n",
      "2246/2246 [==============================] - 3s 1ms/sample - loss: 1.2444 - acc: 0.7070\n",
      "\n",
      " 테스트 정확도 : 0.7070\n"
     ]
    }
   ],
   "source": [
    "loaded_model = load_model('best_model.h5')\n",
    "print('\\n 테스트 정확도 : %.4f' % (loaded_model.evaluate(x_test, y_test)[1]))"
   ],
   "metadata": {
    "collapsed": false,
    "pycharm": {
     "name": "#%%\n"
    }
   }
  },
  {
   "cell_type": "code",
   "execution_count": 21,
   "outputs": [
    {
     "data": {
      "text/plain": "<Figure size 432x288 with 1 Axes>",
      "image/png": "[encoded data removed]"
     },
     "metadata": {
      "needs_background": "light"
     },
     "output_type": "display_data"
    }
   ],
   "source": [
    "epochs = range(1, len(history.history['acc']) + 1)\n",
    "plt.plot(epochs, history.history['loss'])\n",
    "plt.plot(epochs, history.history['val_loss'])\n",
    "plt.title('model loss')\n",
    "plt.ylabel('loss')\n",
    "plt.xlabel('epoch')\n",
    "plt.legend(['train', 'test'], loc='upper left')\n",
    "plt.show()"
   ],
   "metadata": {
    "collapsed": false,
    "pycharm": {
     "name": "#%%\n"
    }
   }
  }
 ],
 "metadata": {
  "kernelspec": {
   "display_name": "Python 3",
   "language": "python",
   "name": "python3"
  },
  "language_info": {
   "codemirror_mode": {
    "name": "ipython",
    "version": 2
   },
   "file_extension": ".py",
   "mimetype": "text/x-python",
   "name": "python",
   "nbconvert_exporter": "python",
   "pygments_lexer": "ipython2",
   "version": "2.7.6"
  }
 },
 "nbformat": 4,
 "nbformat_minor": 0
}