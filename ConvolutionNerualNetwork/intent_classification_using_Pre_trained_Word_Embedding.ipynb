{
  "nbformat": 4,
  "nbformat_minor": 0,
  "metadata": {
    "colab": {
      "name": "intent_classification_using_Pre-trained_Word_Embedding.ipynb",
      "provenance": [],
      "authorship_tag": "ABX9TyMzOBcgPA/gtSh4ubC2m8mA",
      "include_colab_link": true
    },
    "kernelspec": {
      "name": "python3",
      "display_name": "Python 3"
    },
    "language_info": {
      "name": "python"
    },
    "accelerator": "GPU"
  },
  "cells": [
    {
      "cell_type": "markdown",
      "metadata": {
        "id": "view-in-github",
        "colab_type": "text"
      },
      "source": [
        "<a href=\"https://colab.research.google.com/github/windopper/NLPDeepLearningPractice/blob/main/ConvolutionNerualNetwork/intent_classification_using_Pre_trained_Word_Embedding.ipynb\" target=\"_parent\"><img src=\"https://colab.research.google.com/assets/colab-badge.svg\" alt=\"Open In Colab\"/></a>"
      ]
    },
    {
      "cell_type": "markdown",
      "source": [
        "# 사전 훈련된 워드 임베딩을 이용한 의도 분류"
      ],
      "metadata": {
        "id": "jIbx8eW8UDIn"
      }
    },
    {
      "cell_type": "code",
      "execution_count": 1,
      "metadata": {
        "id": "X0IH5i55Trpd"
      },
      "outputs": [],
      "source": [
        "import os\n",
        "import pandas as pd\n",
        "import numpy as np\n",
        "import matplotlib.pyplot as plt\n",
        "import urllib.request\n",
        "from sklearn import preprocessing\n",
        "from tensorflow.keras.preprocessing.text import Tokenizer\n",
        "from tensorflow.keras.preprocessing.sequence import pad_sequences\n",
        "from tensorflow.keras.utils import to_categorical\n",
        "from sklearn.metrics import classification_report"
      ]
    },
    {
      "cell_type": "code",
      "source": [
        "urllib.request.urlretrieve(\"https://raw.githubusercontent.com/ukairia777/tensorflow-nlp-tutorial/main/11.%201D%20CNN%20Text%20Classification/dataset/intent_train_data.csv\", filename=\"intent_train_data.csv\")\n",
        "urllib.request.urlretrieve(\"https://raw.githubusercontent.com/ukairia777/tensorflow-nlp-tutorial/main/11.%201D%20CNN%20Text%20Classification/dataset/intent_test_data.csv\", filename=\"intent_test_data.csv\")\n",
        "\n",
        "train_data = pd.read_csv('intent_train_data.csv')\n",
        "test_data = pd.read_csv('intent_test_data.csv')"
      ],
      "metadata": {
        "id": "EE6309zhUHYT"
      },
      "execution_count": 2,
      "outputs": []
    },
    {
      "cell_type": "code",
      "source": [
        "train_data"
      ],
      "metadata": {
        "colab": {
          "base_uri": "https://localhost:8080/",
          "height": 423
        },
        "id": "tsO9jtV_UHlP",
        "outputId": "708c1569-eaa5-4c1d-a2b2-eb0a7c892e33"
      },
      "execution_count": 3,
      "outputs": [
        {
          "output_type": "execute_result",
          "data": {
            "text/html": [
              "\n",
              "  <div id=\"df-9eb4f420-af63-43e6-85a2-a8dd4c6fd077\">\n",
              "    <div class=\"colab-df-container\">\n",
              "      <div>\n",
              "<style scoped>\n",
              "    .dataframe tbody tr th:only-of-type {\n",
              "        vertical-align: middle;\n",
              "    }\n",
              "\n",
              "    .dataframe tbody tr th {\n",
              "        vertical-align: top;\n",
              "    }\n",
              "\n",
              "    .dataframe thead th {\n",
              "        text-align: right;\n",
              "    }\n",
              "</style>\n",
              "<table border=\"1\" class=\"dataframe\">\n",
              "  <thead>\n",
              "    <tr style=\"text-align: right;\">\n",
              "      <th></th>\n",
              "      <th>intent</th>\n",
              "      <th>label</th>\n",
              "    </tr>\n",
              "  </thead>\n",
              "  <tbody>\n",
              "    <tr>\n",
              "      <th>0</th>\n",
              "      <td>add another song to the cita rom ntica playlist</td>\n",
              "      <td>AddToPlaylist</td>\n",
              "    </tr>\n",
              "    <tr>\n",
              "      <th>1</th>\n",
              "      <td>add clem burke in my playlist pre party r b jams</td>\n",
              "      <td>AddToPlaylist</td>\n",
              "    </tr>\n",
              "    <tr>\n",
              "      <th>2</th>\n",
              "      <td>add live from aragon ballroom to trapeo</td>\n",
              "      <td>AddToPlaylist</td>\n",
              "    </tr>\n",
              "    <tr>\n",
              "      <th>3</th>\n",
              "      <td>add unite and win to my night out</td>\n",
              "      <td>AddToPlaylist</td>\n",
              "    </tr>\n",
              "    <tr>\n",
              "      <th>4</th>\n",
              "      <td>add track to my digster future hits</td>\n",
              "      <td>AddToPlaylist</td>\n",
              "    </tr>\n",
              "    <tr>\n",
              "      <th>...</th>\n",
              "      <td>...</td>\n",
              "      <td>...</td>\n",
              "    </tr>\n",
              "    <tr>\n",
              "      <th>11779</th>\n",
              "      <td>can a i get the movie schedule for sympathy fo...</td>\n",
              "      <td>SearchScreeningEvent</td>\n",
              "    </tr>\n",
              "    <tr>\n",
              "      <th>11780</th>\n",
              "      <td>find movie schedules for animated movies aroun...</td>\n",
              "      <td>SearchScreeningEvent</td>\n",
              "    </tr>\n",
              "    <tr>\n",
              "      <th>11781</th>\n",
              "      <td>what time is bordertown trail showing</td>\n",
              "      <td>SearchScreeningEvent</td>\n",
              "    </tr>\n",
              "    <tr>\n",
              "      <th>11782</th>\n",
              "      <td>in the neighbourhood find movies with movie times</td>\n",
              "      <td>SearchScreeningEvent</td>\n",
              "    </tr>\n",
              "    <tr>\n",
              "      <th>11783</th>\n",
              "      <td>what cinema has the closest movies</td>\n",
              "      <td>SearchScreeningEvent</td>\n",
              "    </tr>\n",
              "  </tbody>\n",
              "</table>\n",
              "<p>11784 rows × 2 columns</p>\n",
              "</div>\n",
              "      <button class=\"colab-df-convert\" onclick=\"convertToInteractive('df-9eb4f420-af63-43e6-85a2-a8dd4c6fd077')\"\n",
              "              title=\"Convert this dataframe to an interactive table.\"\n",
              "              style=\"display:none;\">\n",
              "        \n",
              "  <svg xmlns=\"http://www.w3.org/2000/svg\" height=\"24px\"viewBox=\"0 0 24 24\"\n",
              "       width=\"24px\">\n",
              "    <path d=\"M0 0h24v24H0V0z\" fill=\"none\"/>\n",
              "    <path d=\"M18.56 5.44l.94 2.06.94-2.06 2.06-.94-2.06-.94-.94-2.06-.94 2.06-2.06.94zm-11 1L8.5 8.5l.94-2.06 2.06-.94-2.06-.94L8.5 2.5l-.94 2.06-2.06.94zm10 10l.94 2.06.94-2.06 2.06-.94-2.06-.94-.94-2.06-.94 2.06-2.06.94z\"/><path d=\"M17.41 7.96l-1.37-1.37c-.4-.4-.92-.59-1.43-.59-.52 0-1.04.2-1.43.59L10.3 9.45l-7.72 7.72c-.78.78-.78 2.05 0 2.83L4 21.41c.39.39.9.59 1.41.59.51 0 1.02-.2 1.41-.59l7.78-7.78 2.81-2.81c.8-.78.8-2.07 0-2.86zM5.41 20L4 18.59l7.72-7.72 1.47 1.35L5.41 20z\"/>\n",
              "  </svg>\n",
              "      </button>\n",
              "      \n",
              "  <style>\n",
              "    .colab-df-container {\n",
              "      display:flex;\n",
              "      flex-wrap:wrap;\n",
              "      gap: 12px;\n",
              "    }\n",
              "\n",
              "    .colab-df-convert {\n",
              "      background-color: #E8F0FE;\n",
              "      border: none;\n",
              "      border-radius: 50%;\n",
              "      cursor: pointer;\n",
              "      display: none;\n",
              "      fill: #1967D2;\n",
              "      height: 32px;\n",
              "      padding: 0 0 0 0;\n",
              "      width: 32px;\n",
              "    }\n",
              "\n",
              "    .colab-df-convert:hover {\n",
              "      background-color: #E2EBFA;\n",
              "      box-shadow: 0px 1px 2px rgba(60, 64, 67, 0.3), 0px 1px 3px 1px rgba(60, 64, 67, 0.15);\n",
              "      fill: #174EA6;\n",
              "    }\n",
              "\n",
              "    [theme=dark] .colab-df-convert {\n",
              "      background-color: #3B4455;\n",
              "      fill: #D2E3FC;\n",
              "    }\n",
              "\n",
              "    [theme=dark] .colab-df-convert:hover {\n",
              "      background-color: #434B5C;\n",
              "      box-shadow: 0px 1px 3px 1px rgba(0, 0, 0, 0.15);\n",
              "      filter: drop-shadow(0px 1px 2px rgba(0, 0, 0, 0.3));\n",
              "      fill: #FFFFFF;\n",
              "    }\n",
              "  </style>\n",
              "\n",
              "      <script>\n",
              "        const buttonEl =\n",
              "          document.querySelector('#df-9eb4f420-af63-43e6-85a2-a8dd4c6fd077 button.colab-df-convert');\n",
              "        buttonEl.style.display =\n",
              "          google.colab.kernel.accessAllowed ? 'block' : 'none';\n",
              "\n",
              "        async function convertToInteractive(key) {\n",
              "          const element = document.querySelector('#df-9eb4f420-af63-43e6-85a2-a8dd4c6fd077');\n",
              "          const dataTable =\n",
              "            await google.colab.kernel.invokeFunction('convertToInteractive',\n",
              "                                                     [key], {});\n",
              "          if (!dataTable) return;\n",
              "\n",
              "          const docLinkHtml = 'Like what you see? Visit the ' +\n",
              "            '<a target=\"_blank\" href=https://colab.research.google.com/notebooks/data_table.ipynb>data table notebook</a>'\n",
              "            + ' to learn more about interactive tables.';\n",
              "          element.innerHTML = '';\n",
              "          dataTable['output_type'] = 'display_data';\n",
              "          await google.colab.output.renderOutput(dataTable, element);\n",
              "          const docLink = document.createElement('div');\n",
              "          docLink.innerHTML = docLinkHtml;\n",
              "          element.appendChild(docLink);\n",
              "        }\n",
              "      </script>\n",
              "    </div>\n",
              "  </div>\n",
              "  "
            ],
            "text/plain": [
              "                                                  intent                 label\n",
              "0        add another song to the cita rom ntica playlist         AddToPlaylist\n",
              "1       add clem burke in my playlist pre party r b jams         AddToPlaylist\n",
              "2                add live from aragon ballroom to trapeo         AddToPlaylist\n",
              "3                      add unite and win to my night out         AddToPlaylist\n",
              "4                    add track to my digster future hits         AddToPlaylist\n",
              "...                                                  ...                   ...\n",
              "11779  can a i get the movie schedule for sympathy fo...  SearchScreeningEvent\n",
              "11780  find movie schedules for animated movies aroun...  SearchScreeningEvent\n",
              "11781              what time is bordertown trail showing  SearchScreeningEvent\n",
              "11782  in the neighbourhood find movies with movie times  SearchScreeningEvent\n",
              "11783                 what cinema has the closest movies  SearchScreeningEvent\n",
              "\n",
              "[11784 rows x 2 columns]"
            ]
          },
          "metadata": {},
          "execution_count": 3
        }
      ]
    },
    {
      "cell_type": "code",
      "source": [
        "test_data"
      ],
      "metadata": {
        "colab": {
          "base_uri": "https://localhost:8080/",
          "height": 423
        },
        "id": "FAME_4NCUKCN",
        "outputId": "d0a11005-06b2-4b5b-95ab-c2aafc967ffc"
      },
      "execution_count": 4,
      "outputs": [
        {
          "output_type": "execute_result",
          "data": {
            "text/html": [
              "\n",
              "  <div id=\"df-f6beb7fb-f214-42a4-94fa-ebfc3c23ebae\">\n",
              "    <div class=\"colab-df-container\">\n",
              "      <div>\n",
              "<style scoped>\n",
              "    .dataframe tbody tr th:only-of-type {\n",
              "        vertical-align: middle;\n",
              "    }\n",
              "\n",
              "    .dataframe tbody tr th {\n",
              "        vertical-align: top;\n",
              "    }\n",
              "\n",
              "    .dataframe thead th {\n",
              "        text-align: right;\n",
              "    }\n",
              "</style>\n",
              "<table border=\"1\" class=\"dataframe\">\n",
              "  <thead>\n",
              "    <tr style=\"text-align: right;\">\n",
              "      <th></th>\n",
              "      <th>intent</th>\n",
              "      <th>label</th>\n",
              "    </tr>\n",
              "  </thead>\n",
              "  <tbody>\n",
              "    <tr>\n",
              "      <th>0</th>\n",
              "      <td>i 'd like to have this track onto my classical...</td>\n",
              "      <td>AddToPlaylist</td>\n",
              "    </tr>\n",
              "    <tr>\n",
              "      <th>1</th>\n",
              "      <td>add the album to my flow espa ol playlist</td>\n",
              "      <td>AddToPlaylist</td>\n",
              "    </tr>\n",
              "    <tr>\n",
              "      <th>2</th>\n",
              "      <td>add digging now to my young at heart playlist</td>\n",
              "      <td>AddToPlaylist</td>\n",
              "    </tr>\n",
              "    <tr>\n",
              "      <th>3</th>\n",
              "      <td>add this song by too poetic to my piano ballad...</td>\n",
              "      <td>AddToPlaylist</td>\n",
              "    </tr>\n",
              "    <tr>\n",
              "      <th>4</th>\n",
              "      <td>add this album to old school death metal</td>\n",
              "      <td>AddToPlaylist</td>\n",
              "    </tr>\n",
              "    <tr>\n",
              "      <th>...</th>\n",
              "      <td>...</td>\n",
              "      <td>...</td>\n",
              "    </tr>\n",
              "    <tr>\n",
              "      <th>595</th>\n",
              "      <td>is any cinema playing the spirit of youth</td>\n",
              "      <td>SearchScreeningEvent</td>\n",
              "    </tr>\n",
              "    <tr>\n",
              "      <th>596</th>\n",
              "      <td>what are the movie times for animated movies i...</td>\n",
              "      <td>SearchScreeningEvent</td>\n",
              "    </tr>\n",
              "    <tr>\n",
              "      <th>597</th>\n",
              "      <td>what 's the movie schedule at great escape the...</td>\n",
              "      <td>SearchScreeningEvent</td>\n",
              "    </tr>\n",
              "    <tr>\n",
              "      <th>598</th>\n",
              "      <td>show the times for cheers for miss bishop at d...</td>\n",
              "      <td>SearchScreeningEvent</td>\n",
              "    </tr>\n",
              "    <tr>\n",
              "      <th>599</th>\n",
              "      <td>i want to see married to the enemy 2 at a cinema</td>\n",
              "      <td>SearchScreeningEvent</td>\n",
              "    </tr>\n",
              "  </tbody>\n",
              "</table>\n",
              "<p>600 rows × 2 columns</p>\n",
              "</div>\n",
              "      <button class=\"colab-df-convert\" onclick=\"convertToInteractive('df-f6beb7fb-f214-42a4-94fa-ebfc3c23ebae')\"\n",
              "              title=\"Convert this dataframe to an interactive table.\"\n",
              "              style=\"display:none;\">\n",
              "        \n",
              "  <svg xmlns=\"http://www.w3.org/2000/svg\" height=\"24px\"viewBox=\"0 0 24 24\"\n",
              "       width=\"24px\">\n",
              "    <path d=\"M0 0h24v24H0V0z\" fill=\"none\"/>\n",
              "    <path d=\"M18.56 5.44l.94 2.06.94-2.06 2.06-.94-2.06-.94-.94-2.06-.94 2.06-2.06.94zm-11 1L8.5 8.5l.94-2.06 2.06-.94-2.06-.94L8.5 2.5l-.94 2.06-2.06.94zm10 10l.94 2.06.94-2.06 2.06-.94-2.06-.94-.94-2.06-.94 2.06-2.06.94z\"/><path d=\"M17.41 7.96l-1.37-1.37c-.4-.4-.92-.59-1.43-.59-.52 0-1.04.2-1.43.59L10.3 9.45l-7.72 7.72c-.78.78-.78 2.05 0 2.83L4 21.41c.39.39.9.59 1.41.59.51 0 1.02-.2 1.41-.59l7.78-7.78 2.81-2.81c.8-.78.8-2.07 0-2.86zM5.41 20L4 18.59l7.72-7.72 1.47 1.35L5.41 20z\"/>\n",
              "  </svg>\n",
              "      </button>\n",
              "      \n",
              "  <style>\n",
              "    .colab-df-container {\n",
              "      display:flex;\n",
              "      flex-wrap:wrap;\n",
              "      gap: 12px;\n",
              "    }\n",
              "\n",
              "    .colab-df-convert {\n",
              "      background-color: #E8F0FE;\n",
              "      border: none;\n",
              "      border-radius: 50%;\n",
              "      cursor: pointer;\n",
              "      display: none;\n",
              "      fill: #1967D2;\n",
              "      height: 32px;\n",
              "      padding: 0 0 0 0;\n",
              "      width: 32px;\n",
              "    }\n",
              "\n",
              "    .colab-df-convert:hover {\n",
              "      background-color: #E2EBFA;\n",
              "      box-shadow: 0px 1px 2px rgba(60, 64, 67, 0.3), 0px 1px 3px 1px rgba(60, 64, 67, 0.15);\n",
              "      fill: #174EA6;\n",
              "    }\n",
              "\n",
              "    [theme=dark] .colab-df-convert {\n",
              "      background-color: #3B4455;\n",
              "      fill: #D2E3FC;\n",
              "    }\n",
              "\n",
              "    [theme=dark] .colab-df-convert:hover {\n",
              "      background-color: #434B5C;\n",
              "      box-shadow: 0px 1px 3px 1px rgba(0, 0, 0, 0.15);\n",
              "      filter: drop-shadow(0px 1px 2px rgba(0, 0, 0, 0.3));\n",
              "      fill: #FFFFFF;\n",
              "    }\n",
              "  </style>\n",
              "\n",
              "      <script>\n",
              "        const buttonEl =\n",
              "          document.querySelector('#df-f6beb7fb-f214-42a4-94fa-ebfc3c23ebae button.colab-df-convert');\n",
              "        buttonEl.style.display =\n",
              "          google.colab.kernel.accessAllowed ? 'block' : 'none';\n",
              "\n",
              "        async function convertToInteractive(key) {\n",
              "          const element = document.querySelector('#df-f6beb7fb-f214-42a4-94fa-ebfc3c23ebae');\n",
              "          const dataTable =\n",
              "            await google.colab.kernel.invokeFunction('convertToInteractive',\n",
              "                                                     [key], {});\n",
              "          if (!dataTable) return;\n",
              "\n",
              "          const docLinkHtml = 'Like what you see? Visit the ' +\n",
              "            '<a target=\"_blank\" href=https://colab.research.google.com/notebooks/data_table.ipynb>data table notebook</a>'\n",
              "            + ' to learn more about interactive tables.';\n",
              "          element.innerHTML = '';\n",
              "          dataTable['output_type'] = 'display_data';\n",
              "          await google.colab.output.renderOutput(dataTable, element);\n",
              "          const docLink = document.createElement('div');\n",
              "          docLink.innerHTML = docLinkHtml;\n",
              "          element.appendChild(docLink);\n",
              "        }\n",
              "      </script>\n",
              "    </div>\n",
              "  </div>\n",
              "  "
            ],
            "text/plain": [
              "                                                intent                 label\n",
              "0    i 'd like to have this track onto my classical...         AddToPlaylist\n",
              "1            add the album to my flow espa ol playlist         AddToPlaylist\n",
              "2        add digging now to my young at heart playlist         AddToPlaylist\n",
              "3    add this song by too poetic to my piano ballad...         AddToPlaylist\n",
              "4             add this album to old school death metal         AddToPlaylist\n",
              "..                                                 ...                   ...\n",
              "595          is any cinema playing the spirit of youth  SearchScreeningEvent\n",
              "596  what are the movie times for animated movies i...  SearchScreeningEvent\n",
              "597  what 's the movie schedule at great escape the...  SearchScreeningEvent\n",
              "598  show the times for cheers for miss bishop at d...  SearchScreeningEvent\n",
              "599   i want to see married to the enemy 2 at a cinema  SearchScreeningEvent\n",
              "\n",
              "[600 rows x 2 columns]"
            ]
          },
          "metadata": {},
          "execution_count": 4
        }
      ]
    },
    {
      "cell_type": "code",
      "source": [
        "intent_train = train_data.intent.tolist()\n",
        "label_train = train_data.label.tolist()\n",
        "intent_test = test_data.intent.tolist()\n",
        "label_test = test_data.label.tolist()\n",
        "\n",
        "print('훈련용 문장의 수 : ', len(intent_train))\n",
        "print('훈련용 라벨의 수 : ', len(label_train))\n",
        "print('테스트용 문장의 수 : ', len(intent_test))\n",
        "print('테스트용 라벨의 수 :', len(label_test))"
      ],
      "metadata": {
        "colab": {
          "base_uri": "https://localhost:8080/"
        },
        "id": "qWyz6hxBUQ8h",
        "outputId": "020229da-43df-42f1-f4f3-530bf48f75c9"
      },
      "execution_count": 5,
      "outputs": [
        {
          "output_type": "stream",
          "name": "stdout",
          "text": [
            "훈련용 문장의 수 :  11784\n",
            "훈련용 라벨의 수 :  11784\n",
            "테스트용 문장의 수 :  600\n",
            "테스트용 라벨의 수 : 600\n"
          ]
        }
      ]
    },
    {
      "cell_type": "code",
      "source": [
        "print(intent_train[:5])\n",
        "print(label_train[:5])"
      ],
      "metadata": {
        "colab": {
          "base_uri": "https://localhost:8080/"
        },
        "id": "HNxMqzbpUXgt",
        "outputId": "7c2feb83-decd-45c6-9627-68de862e4f0f"
      },
      "execution_count": 6,
      "outputs": [
        {
          "output_type": "stream",
          "name": "stdout",
          "text": [
            "['add another song to the cita rom ntica playlist', 'add clem burke in my playlist pre party r b jams', 'add live from aragon ballroom to trapeo', 'add unite and win to my night out', 'add track to my digster future hits']\n",
            "['AddToPlaylist', 'AddToPlaylist', 'AddToPlaylist', 'AddToPlaylist', 'AddToPlaylist']\n"
          ]
        }
      ]
    },
    {
      "cell_type": "code",
      "source": [
        "print(intent_train[2000:2005])\n",
        "print(label_train[2000:2005])"
      ],
      "metadata": {
        "colab": {
          "base_uri": "https://localhost:8080/"
        },
        "id": "HPEMgfX7Uu_9",
        "outputId": "6a99681d-8115-4aee-8f49-6aeccc326383"
      },
      "execution_count": 7,
      "outputs": [
        {
          "output_type": "stream",
          "name": "stdout",
          "text": [
            "['please book reservations for 3 people at a restaurant in alderwood manor', 'book a table in mt for 3 for now at a pub that serves south indian', 'book a table in belhaven for a party of seven at the great house at sonning', 'i want to book a restaurant near wyoming for 5 people', 'get me a table at eighth step coffee house in germania for 7']\n",
            "['BookRestaurant', 'BookRestaurant', 'BookRestaurant', 'BookRestaurant', 'BookRestaurant']\n"
          ]
        }
      ]
    },
    {
      "cell_type": "code",
      "source": [
        "train_data['label'].value_counts().plot(kind='bar')"
      ],
      "metadata": {
        "colab": {
          "base_uri": "https://localhost:8080/",
          "height": 387
        },
        "id": "FCMr2leHU0C5",
        "outputId": "d02498f6-c43c-4b51-b759-755703aad953"
      },
      "execution_count": 8,
      "outputs": [
        {
          "output_type": "execute_result",
          "data": {
            "text/plain": [
              "<matplotlib.axes._subplots.AxesSubplot at 0x7f8e55f99390>"
            ]
          },
          "metadata": {},
          "execution_count": 8
        },
        {
          "output_type": "display_data",
          "data": {
            "image/png": "[encoded data removed]",
            "text/plain": [
              "<Figure size 432x288 with 1 Axes>"
            ]
          },
          "metadata": {
            "needs_background": "light"
          }
        }
      ]
    },
    {
      "cell_type": "markdown",
      "source": [
        "훈련 데이터에서 6개의 카테고리 ( 각각 AddToPlaylist, BookRestaurant, GetWeather , RateBook , SearchCreativeWork, SearchScreeningEvent)가 존재하는데 이를 정수로 인코딩 해야한다.\n",
        "\n",
        "사이킷런의 preprocessing.LabelEncoder()가 유용하므로 이걸 사용하자"
      ],
      "metadata": {
        "id": "uxTmpOQeVGy1"
      }
    },
    {
      "cell_type": "code",
      "source": [
        "idx_encode = preprocessing.LabelEncoder()\n",
        "idx_encode.fit(label_train)\n",
        "\n",
        "label_train = idx_encode.transform(label_train)\n",
        "label_test = idx_encode.transform(label_test)\n",
        "\n",
        "label_idx = dict(zip(list(idx_encode.classes_), idx_encode.transform(list(idx_encode.classes_))))\n",
        "print('레이블과 정수의 맵핑 관계 :', label_idx)"
      ],
      "metadata": {
        "colab": {
          "base_uri": "https://localhost:8080/"
        },
        "id": "cQzYCc6EU6Z3",
        "outputId": "7e9b04e9-a4d6-4f8f-e9d0-b9e20776474a"
      },
      "execution_count": 9,
      "outputs": [
        {
          "output_type": "stream",
          "name": "stdout",
          "text": [
            "레이블과 정수의 맵핑 관계 : {'AddToPlaylist': 0, 'BookRestaurant': 1, 'GetWeather': 2, 'RateBook': 3, 'SearchCreativeWork': 4, 'SearchScreeningEvent': 5}\n"
          ]
        }
      ]
    },
    {
      "cell_type": "markdown",
      "source": [
        "문장 토큰화"
      ],
      "metadata": {
        "id": "V_Mj9afjXlVn"
      }
    },
    {
      "cell_type": "code",
      "source": [
        "tokenizer = Tokenizer()\n",
        "tokenizer.fit_on_texts(intent_train)\n",
        "sequences = tokenizer.texts_to_sequences(intent_train)\n",
        "sequences[:5]"
      ],
      "metadata": {
        "colab": {
          "base_uri": "https://localhost:8080/"
        },
        "id": "YgG_5gfyV0_7",
        "outputId": "0ec20149-15d4-48e8-d507-708e27915df4"
      },
      "execution_count": 10,
      "outputs": [
        {
          "output_type": "execute_result",
          "data": {
            "text/plain": [
              "[[11, 191, 61, 4, 1, 4013, 1141, 1572, 15],\n",
              " [11, 2624, 1573, 3, 14, 15, 939, 82, 256, 188, 548],\n",
              " [11, 187, 42, 2625, 4014, 4, 1968],\n",
              " [11, 2626, 22, 2627, 4, 14, 192, 27],\n",
              " [11, 92, 4, 14, 651, 520, 195]]"
            ]
          },
          "metadata": {},
          "execution_count": 10
        }
      ]
    },
    {
      "cell_type": "code",
      "source": [
        "word_index = tokenizer.word_index\n",
        "vocab_size = len(word_index) + 1\n",
        "print('단어 집합의 크기 :', vocab_size)"
      ],
      "metadata": {
        "colab": {
          "base_uri": "https://localhost:8080/"
        },
        "id": "wvJyu94BXvEQ",
        "outputId": "cdcbf407-2374-407d-93ee-9cd7c46d5c9d"
      },
      "execution_count": 11,
      "outputs": [
        {
          "output_type": "stream",
          "name": "stdout",
          "text": [
            "단어 집합의 크기 : 9870\n"
          ]
        }
      ]
    },
    {
      "cell_type": "markdown",
      "source": [
        "패딩하기"
      ],
      "metadata": {
        "id": "1gxKZAcDrba6"
      }
    },
    {
      "cell_type": "code",
      "source": [
        "print('문장의 최대 길이 : ', max(len(l) for l in sequences))\n",
        "print('문장의 평균 길이 : ', sum(map(len, sequences))/len(sequences))\n",
        "plt.hist([len(s) for s in sequences], bins=50)\n",
        "plt.xlabel('length of samples')\n",
        "plt.ylabel('number of samples')\n",
        "plt.show()"
      ],
      "metadata": {
        "colab": {
          "base_uri": "https://localhost:8080/",
          "height": 317
        },
        "id": "__cD3APJXz8F",
        "outputId": "dc7468b1-612c-4ba3-b325-1f6823dcd8bb"
      },
      "execution_count": 14,
      "outputs": [
        {
          "output_type": "stream",
          "name": "stdout",
          "text": [
            "문장의 최대 길이 :  35\n",
            "문장의 평균 길이 :  9.364392396469789\n"
          ]
        },
        {
          "output_type": "display_data",
          "data": {
            "image/png": "[encoded data removed]",
            "text/plain": [
              "<Figure size 432x288 with 1 Axes>"
            ]
          },
          "metadata": {
            "needs_background": "light"
          }
        }
      ]
    },
    {
      "cell_type": "code",
      "source": [
        "max_len = 35\n",
        "\n",
        "intent_train = pad_sequences(sequences, maxlen = max_len)\n",
        "label_train = to_categorical(np.asarray(label_train))\n",
        "print('훈련 데이터의 크기(shape):', intent_train.shape)\n",
        "print('훈련 데이터 레이블의 크기(shape):', label_train.shape)"
      ],
      "metadata": {
        "colab": {
          "base_uri": "https://localhost:8080/"
        },
        "id": "9xa5YWw7rvWo",
        "outputId": "dc2fce04-bd6b-4048-bc42-8ec8635a0963"
      },
      "execution_count": 16,
      "outputs": [
        {
          "output_type": "stream",
          "name": "stdout",
          "text": [
            "훈련 데이터의 크기(shape): (11784, 35)\n",
            "훈련 데이터 레이블의 크기(shape): (11784, 6)\n"
          ]
        }
      ]
    },
    {
      "cell_type": "markdown",
      "source": [
        "데이터 랜덤 섞기"
      ],
      "metadata": {
        "id": "CbggIvZvsST2"
      }
    },
    {
      "cell_type": "code",
      "source": [
        "indices = np.arange(intent_train.shape[0])\n",
        "np.random.shuffle(indices)\n",
        "print('랜덤 시퀀스 : ', indices)"
      ],
      "metadata": {
        "colab": {
          "base_uri": "https://localhost:8080/"
        },
        "id": "wUiKLwcesJ9j",
        "outputId": "256df1cf-742d-4632-fa66-d235a43ba791"
      },
      "execution_count": 17,
      "outputs": [
        {
          "output_type": "stream",
          "name": "stdout",
          "text": [
            "랜덤 시퀀스 :  [10622  7196  9267 ...  7837  6109 11338]\n"
          ]
        }
      ]
    },
    {
      "cell_type": "code",
      "source": [
        "intent_train = intent_train[indices]\n",
        "label_train = label_train[indices]"
      ],
      "metadata": {
        "id": "7jrX_hGtsb6d"
      },
      "execution_count": 18,
      "outputs": []
    },
    {
      "cell_type": "code",
      "source": [
        "n_of_val = int(0.1 * intent_train.shape[0])\n",
        "print('검증 데이터의 개수 :', n_of_val)"
      ],
      "metadata": {
        "colab": {
          "base_uri": "https://localhost:8080/"
        },
        "id": "SGC44iNLskKW",
        "outputId": "f676ef7c-6ed5-457e-8310-491cdaa45d8b"
      },
      "execution_count": 19,
      "outputs": [
        {
          "output_type": "stream",
          "name": "stdout",
          "text": [
            "검증 데이터의 개수 : 1178\n"
          ]
        }
      ]
    },
    {
      "cell_type": "code",
      "source": [
        "x_train = intent_train[:-n_of_val]\n",
        "y_train = label_train[:-n_of_val]\n",
        "x_val = intent_train[-n_of_val:]\n",
        "y_val = label_train[-n_of_val:]\n",
        "x_test = intent_test\n",
        "y_test = label_test"
      ],
      "metadata": {
        "id": "f2U9NE9zsqmj"
      },
      "execution_count": 36,
      "outputs": []
    },
    {
      "cell_type": "code",
      "source": [
        "print('훈련 데이터의 크기(shape):', x_train.shape)\n",
        "print('검증 데이터의 크기(shape):', x_val.shape)\n",
        "print('훈련 데이터 레이블의 크기(shape):', y_train.shape)\n",
        "print('검증 데이터 레이블의 크기(shape):', y_val.shape)\n",
        "print('테스트 데이터의 개수 :', len(x_test))\n",
        "print('테스트 데이터 레이블의 개수 :', len(y_test))"
      ],
      "metadata": {
        "colab": {
          "base_uri": "https://localhost:8080/"
        },
        "id": "60exldK1s1eZ",
        "outputId": "4e7fe6c9-1f72-49d3-fa0f-d4f344dd305d"
      },
      "execution_count": 38,
      "outputs": [
        {
          "output_type": "stream",
          "name": "stdout",
          "text": [
            "훈련 데이터의 크기(shape): (10606, 35)\n",
            "검증 데이터의 크기(shape): (1178, 35)\n",
            "훈련 데이터 레이블의 크기(shape): (10606, 6)\n",
            "검증 데이터 레이블의 크기(shape): (1178, 6)\n",
            "테스트 데이터의 개수 : 600\n",
            "테스트 데이터 레이블의 개수 : 600\n"
          ]
        }
      ]
    },
    {
      "cell_type": "markdown",
      "source": [
        "# 사전 훈련된 워드 임베딩 사용하기\n",
        "\n",
        "스탠포드 대학교에서 제공하는 사전 훈련된 GloVe 임베딩 사용"
      ],
      "metadata": {
        "id": "F1YPzdZQs6tu"
      }
    },
    {
      "cell_type": "code",
      "source": [
        "!wget http://nlp.stanford.edu/data/glove.6B.zip\n",
        "!unzip glove*.zip"
      ],
      "metadata": {
        "colab": {
          "base_uri": "https://localhost:8080/"
        },
        "id": "YdC6jnZEs2-v",
        "outputId": "1330f3a1-3435-42b0-c777-1d4bed8f12ee"
      },
      "execution_count": 23,
      "outputs": [
        {
          "output_type": "stream",
          "name": "stdout",
          "text": [
            "--2022-02-03 13:09:18--  http://nlp.stanford.edu/data/glove.6B.zip\n",
            "Resolving nlp.stanford.edu (nlp.stanford.edu)... 171.64.67.140\n",
            "Connecting to nlp.stanford.edu (nlp.stanford.edu)|171.64.67.140|:80... connected.\n",
            "HTTP request sent, awaiting response... 302 Found\n",
            "Location: https://nlp.stanford.edu/data/glove.6B.zip [following]\n",
            "--2022-02-03 13:09:18--  https://nlp.stanford.edu/data/glove.6B.zip\n",
            "Connecting to nlp.stanford.edu (nlp.stanford.edu)|171.64.67.140|:443... connected.\n",
            "HTTP request sent, awaiting response... 301 Moved Permanently\n",
            "Location: http://downloads.cs.stanford.edu/nlp/data/glove.6B.zip [following]\n",
            "--2022-02-03 13:09:18--  http://downloads.cs.stanford.edu/nlp/data/glove.6B.zip\n",
            "Resolving downloads.cs.stanford.edu (downloads.cs.stanford.edu)... 171.64.64.22\n",
            "Connecting to downloads.cs.stanford.edu (downloads.cs.stanford.edu)|171.64.64.22|:80... connected.\n",
            "HTTP request sent, awaiting response... 200 OK\n",
            "Length: 862182613 (822M) [application/zip]\n",
            "Saving to: ‘glove.6B.zip’\n",
            "\n",
            "glove.6B.zip        100%[===================>] 822.24M  5.20MB/s    in 2m 40s  \n",
            "\n",
            "2022-02-03 13:11:58 (5.15 MB/s) - ‘glove.6B.zip’ saved [862182613/862182613]\n",
            "\n",
            "Archive:  glove.6B.zip\n",
            "  inflating: glove.6B.50d.txt        \n",
            "  inflating: glove.6B.100d.txt       \n",
            "  inflating: glove.6B.200d.txt       \n",
            "  inflating: glove.6B.300d.txt       \n"
          ]
        }
      ]
    },
    {
      "cell_type": "code",
      "source": [
        "embedding_dict = dict()\n",
        "f = open(os.path.join('glove.6B.100d.txt'), encoding='utf-8')\n",
        "for line in f:\n",
        "    word_vector = line.split()\n",
        "    word = word_vector[0]\n",
        "    word_vector_arr = np.asarray(word_vector[1:], dtype='float32') # 100개의 값을 가지는 array로 변환\n",
        "    embedding_dict[word] = word_vector_arr\n",
        "f.close()\n",
        "\n",
        "print('%s개의 Embedding vector가 있습니다.' % len(embedding_dict))"
      ],
      "metadata": {
        "colab": {
          "base_uri": "https://localhost:8080/"
        },
        "id": "VqeodTbGtBu5",
        "outputId": "cb3db7b6-14cf-4a66-9d58-92f00a6789de"
      },
      "execution_count": 24,
      "outputs": [
        {
          "output_type": "stream",
          "name": "stdout",
          "text": [
            "400000개의 Embedding vector가 있습니다.\n"
          ]
        }
      ]
    },
    {
      "cell_type": "code",
      "source": [
        "embedding_dim = 100\n",
        "embedding_matrix = np.zeros((vocab_size, embedding_dim))\n",
        "print('임베딩 테이블의 크기(shape) :', np.shape(embedding_matrix))"
      ],
      "metadata": {
        "colab": {
          "base_uri": "https://localhost:8080/"
        },
        "id": "wmAdOLkOtDrw",
        "outputId": "f60afadc-7878-43fc-a77e-e8b717a37bcb"
      },
      "execution_count": 28,
      "outputs": [
        {
          "output_type": "stream",
          "name": "stdout",
          "text": [
            "임베딩 테이블의 크기(shape) : (9870, 100)\n"
          ]
        }
      ]
    },
    {
      "cell_type": "code",
      "source": [
        "for word, i in word_index.items():\n",
        "  embedding_vector = embedding_dict.get(word)\n",
        "  if embedding_vector is not None:\n",
        "    embedding_matrix[i] = embedding_vector"
      ],
      "metadata": {
        "id": "QkTSQiJiuHNf"
      },
      "execution_count": 29,
      "outputs": []
    },
    {
      "cell_type": "markdown",
      "source": [
        "1D CNN을 이용한 모델 설계"
      ],
      "metadata": {
        "id": "Kp0igU6juox1"
      }
    },
    {
      "cell_type": "code",
      "source": [
        "from tensorflow.keras.models import Model\n",
        "from tensorflow.keras.layers import Embedding, Dropout, Conv1D, GlobalMaxPool1D, Dense, Input, Flatten, Concatenate\n",
        "\n",
        "kernel_sizes = [2, 3, 5]\n",
        "num_filters = 512\n",
        "dropout_ratio = 0.5\n",
        "model_input = Input(shape=(max_len, ))\n",
        "output = Embedding(vocab_size, embedding_dim, weights=[embedding_matrix], input_length=max_len, trainable=False)(model_input)\n",
        "\n",
        "conv_blocks = []\n",
        "\n",
        "for size in kernel_sizes:\n",
        "  conv = Conv1D(\n",
        "      filters=num_filters,\n",
        "      kernel_size=size,\n",
        "      padding='valid',\n",
        "      activation='relu',\n",
        "      strides=1\n",
        "  )(output)\n",
        "\n",
        "  conv = GlobalMaxPool1D()(conv)\n",
        "  conv_blocks.append(conv)\n",
        "\n",
        "output = Concatenate()(conv_blocks) if len(conv_blocks) > 1 else conv_blocks[0]\n",
        "output = Dropout(dropout_ratio)(output)\n",
        "model_output = Dense(len(label_idx), activation='softmax')(output)\n",
        "model = Model(model_input, model_output)\n",
        "model.compile(\n",
        "    loss='categorical_crossentropy',\n",
        "    optimizer='adam',\n",
        "    metrics=['acc']\n",
        ")\n",
        "model.summary()\n"
      ],
      "metadata": {
        "colab": {
          "base_uri": "https://localhost:8080/"
        },
        "id": "dFh0m4_fuYhZ",
        "outputId": "2e37c756-1953-4ae0-8847-5709331dc0ad"
      },
      "execution_count": 39,
      "outputs": [
        {
          "output_type": "stream",
          "name": "stdout",
          "text": [
            "Model: \"model_1\"\n",
            "__________________________________________________________________________________________________\n",
            " Layer (type)                   Output Shape         Param #     Connected to                     \n",
            "==================================================================================================\n",
            " input_5 (InputLayer)           [(None, 35)]         0           []                               \n",
            "                                                                                                  \n",
            " embedding_3 (Embedding)        (None, 35, 100)      987000      ['input_5[0][0]']                \n",
            "                                                                                                  \n",
            " conv1d_6 (Conv1D)              (None, 34, 512)      102912      ['embedding_3[0][0]']            \n",
            "                                                                                                  \n",
            " conv1d_7 (Conv1D)              (None, 33, 512)      154112      ['embedding_3[0][0]']            \n",
            "                                                                                                  \n",
            " conv1d_8 (Conv1D)              (None, 31, 512)      256512      ['embedding_3[0][0]']            \n",
            "                                                                                                  \n",
            " global_max_pooling1d_6 (Global  (None, 512)         0           ['conv1d_6[0][0]']               \n",
            " MaxPooling1D)                                                                                    \n",
            "                                                                                                  \n",
            " global_max_pooling1d_7 (Global  (None, 512)         0           ['conv1d_7[0][0]']               \n",
            " MaxPooling1D)                                                                                    \n",
            "                                                                                                  \n",
            " global_max_pooling1d_8 (Global  (None, 512)         0           ['conv1d_8[0][0]']               \n",
            " MaxPooling1D)                                                                                    \n",
            "                                                                                                  \n",
            " concatenate_2 (Concatenate)    (None, 1536)         0           ['global_max_pooling1d_6[0][0]', \n",
            "                                                                  'global_max_pooling1d_7[0][0]', \n",
            "                                                                  'global_max_pooling1d_8[0][0]'] \n",
            "                                                                                                  \n",
            " dropout_2 (Dropout)            (None, 1536)         0           ['concatenate_2[0][0]']          \n",
            "                                                                                                  \n",
            " dense_2 (Dense)                (None, 6)            9222        ['dropout_2[0][0]']              \n",
            "                                                                                                  \n",
            "==================================================================================================\n",
            "Total params: 1,509,758\n",
            "Trainable params: 522,758\n",
            "Non-trainable params: 987,000\n",
            "__________________________________________________________________________________________________\n"
          ]
        }
      ]
    },
    {
      "cell_type": "code",
      "source": [
        "history = model.fit(x_train, y_train, batch_size=64, epochs=10, validation_data=(x_val, y_val))"
      ],
      "metadata": {
        "colab": {
          "base_uri": "https://localhost:8080/"
        },
        "id": "fb3iJYZixSLz",
        "outputId": "6d8aee10-1ad8-4fd4-804a-ad259d3ed139"
      },
      "execution_count": 40,
      "outputs": [
        {
          "output_type": "stream",
          "name": "stdout",
          "text": [
            "Epoch 1/10\n",
            "166/166 [==============================] - 5s 22ms/step - loss: 0.2044 - acc: 0.9355 - val_loss: 0.0558 - val_acc: 0.9839\n",
            "Epoch 2/10\n",
            "166/166 [==============================] - 3s 16ms/step - loss: 0.0503 - acc: 0.9853 - val_loss: 0.0337 - val_acc: 0.9890\n",
            "Epoch 3/10\n",
            "166/166 [==============================] - 3s 16ms/step - loss: 0.0282 - acc: 0.9911 - val_loss: 0.0285 - val_acc: 0.9898\n",
            "Epoch 4/10\n",
            "166/166 [==============================] - 3s 15ms/step - loss: 0.0234 - acc: 0.9931 - val_loss: 0.0268 - val_acc: 0.9907\n",
            "Epoch 5/10\n",
            "166/166 [==============================] - 3s 16ms/step - loss: 0.0166 - acc: 0.9953 - val_loss: 0.0250 - val_acc: 0.9915\n",
            "Epoch 6/10\n",
            "166/166 [==============================] - 3s 21ms/step - loss: 0.0102 - acc: 0.9975 - val_loss: 0.0301 - val_acc: 0.9890\n",
            "Epoch 7/10\n",
            "166/166 [==============================] - 3s 16ms/step - loss: 0.0073 - acc: 0.9980 - val_loss: 0.0287 - val_acc: 0.9890\n",
            "Epoch 8/10\n",
            "166/166 [==============================] - 3s 16ms/step - loss: 0.0044 - acc: 0.9994 - val_loss: 0.0328 - val_acc: 0.9881\n",
            "Epoch 9/10\n",
            "166/166 [==============================] - 3s 16ms/step - loss: 0.0051 - acc: 0.9988 - val_loss: 0.0300 - val_acc: 0.9898\n",
            "Epoch 10/10\n",
            "166/166 [==============================] - 3s 17ms/step - loss: 0.0073 - acc: 0.9981 - val_loss: 0.0421 - val_acc: 0.9873\n"
          ]
        }
      ]
    },
    {
      "cell_type": "code",
      "source": [
        "epochs = range(1, len(history.history['acc']) + 1)\n",
        "plt.plot(epochs, history.history['acc'])\n",
        "plt.plot(epochs, history.history['val_acc'])\n",
        "plt.title('model accuracy')\n",
        "plt.ylabel('accuracy')\n",
        "plt.xlabel('epochs')\n",
        "plt.legend(['train', 'test'], loc='lower right')\n",
        "plt.show()\n",
        "\n",
        "epochs = range(1, len(history.history['loss']) + 1)\n",
        "plt.plot(epochs, history.history['loss'])\n",
        "plt.plot(epochs, history.history['val_loss'])\n",
        "plt.title('model loss')\n",
        "plt.ylabel('loss')\n",
        "plt.xlabel('epochs')\n",
        "plt.legend(['train', 'test'], loc='upper right')\n",
        "plt.show()"
      ],
      "metadata": {
        "colab": {
          "base_uri": "https://localhost:8080/",
          "height": 573
        },
        "id": "wxOaWX6Vz82F",
        "outputId": "01f9274e-273d-490e-d363-c9942cc63467"
      },
      "execution_count": 43,
      "outputs": [
        {
          "output_type": "display_data",
          "data": {
            "image/png": "[encoded data removed]",
            "text/plain": [
              "<Figure size 432x288 with 1 Axes>"
            ]
          },
          "metadata": {
            "needs_background": "light"
          }
        },
        {
          "output_type": "display_data",
          "data": {
            "image/png": "[encoded data removed]",
            "text/plain": [
              "<Figure size 432x288 with 1 Axes>"
            ]
          },
          "metadata": {
            "needs_background": "light"
          }
        }
      ]
    },
    {
      "cell_type": "code",
      "source": [
        "x_test = tokenizer.texts_to_sequences(x_test)\n",
        "x_test = pad_sequences(x_test, maxlen=max_len)\n"
      ],
      "metadata": {
        "id": "wNzaCY5d02Cs"
      },
      "execution_count": 44,
      "outputs": []
    },
    {
      "cell_type": "code",
      "source": [
        "y_predicted = model.predict(x_test)\n",
        "y_predicted = y_predicted.argmax(axis=-1)"
      ],
      "metadata": {
        "id": "v79y0Cg71Ge4"
      },
      "execution_count": 45,
      "outputs": []
    },
    {
      "cell_type": "code",
      "source": [
        "print('정확도 (Accuracy) : ', sum(y_predicted == y_test) / len(y_test))"
      ],
      "metadata": {
        "colab": {
          "base_uri": "https://localhost:8080/"
        },
        "id": "VI98zvJj1OyN",
        "outputId": "a2a294e3-0cbc-4fde-d71a-fe99ce46157a"
      },
      "execution_count": 47,
      "outputs": [
        {
          "output_type": "stream",
          "name": "stdout",
          "text": [
            "정확도 (Accuracy) :  0.9866666666666667\n"
          ]
        }
      ]
    },
    {
      "cell_type": "code",
      "source": [
        ""
      ],
      "metadata": {
        "id": "zdRPCL3t1S0s"
      },
      "execution_count": null,
      "outputs": []
    }
  ]
}