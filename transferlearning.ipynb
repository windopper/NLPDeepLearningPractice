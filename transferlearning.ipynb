{
  "nbformat": 4,
  "nbformat_minor": 0,
  "metadata": {
    "colab": {
      "name": "transferlearning.ipynb",
      "provenance": [],
      "authorship_tag": "ABX9TyM3H1yQBtwFgNRsyXXj+B+O",
      "include_colab_link": true
    },
    "kernelspec": {
      "name": "python3",
      "display_name": "Python 3"
    },
    "language_info": {
      "name": "python"
    }
  },
  "cells": [
    {
      "cell_type": "markdown",
      "metadata": {
        "id": "view-in-github",
        "colab_type": "text"
      },
      "source": [
        "<a href=\"https://colab.research.google.com/github/windopper/NerualNetworkPracticeInJupyter/blob/main/transferlearning.ipynb\" target=\"_parent\"><img src=\"https://colab.research.google.com/assets/colab-badge.svg\" alt=\"Open In Colab\"/></a>"
      ]
    },
    {
      "cell_type": "markdown",
      "source": [
        "사전 훈련된 가중치 다운"
      ],
      "metadata": {
        "id": "b8oFDYKm6sjD"
      }
    },
    {
      "cell_type": "code",
      "execution_count": 1,
      "metadata": {
        "colab": {
          "base_uri": "https://localhost:8080/"
        },
        "id": "WZ8kBhmZ6OVa",
        "outputId": "efb019fa-0991-4b4d-c3c4-b8c5569628f7"
      },
      "outputs": [
        {
          "output_type": "stream",
          "name": "stdout",
          "text": [
            "--2022-01-25 15:45:47--  https://storage.googleapis.com/mledu-datasets/inception_v3_weights_tf_dim_ordering_tf_kernels_notop.h5\n",
            "Resolving storage.googleapis.com (storage.googleapis.com)... 142.250.81.208, 142.250.188.48, 142.251.16.128, ...\n",
            "Connecting to storage.googleapis.com (storage.googleapis.com)|142.250.81.208|:443... connected.\n",
            "HTTP request sent, awaiting response... 200 OK\n",
            "Length: 87910968 (84M) [application/x-hdf]\n",
            "Saving to: ‘/tmp/inception_v3_weights_tf_dim_ordering_tf_kernels_notop.h5’\n",
            "\n",
            "/tmp/inception_v3_w 100%[===================>]  83.84M  93.0MB/s    in 0.9s    \n",
            "\n",
            "2022-01-25 15:45:49 (93.0 MB/s) - ‘/tmp/inception_v3_weights_tf_dim_ordering_tf_kernels_notop.h5’ saved [87910968/87910968]\n",
            "\n"
          ]
        }
      ],
      "source": [
        "!wget --no-check-certificate \\\n",
        "  https://storage.googleapis.com/mledu-datasets/inception_v3_weights_tf_dim_ordering_tf_kernels_notop.h5 \\\n",
        "  -O /tmp/inception_v3_weights_tf_dim_ordering_tf_kernels_notop.h5"
      ]
    },
    {
      "cell_type": "markdown",
      "source": [
        "reference \n",
        "\n",
        "<a>https://codetorial.net/tensorflow/transfer_learning.html"
      ],
      "metadata": {
        "id": "val13uZL9Esx"
      }
    },
    {
      "cell_type": "code",
      "source": [
        "\n",
        "import os\n",
        "from tensorflow.keras import layers\n",
        "from tensorflow.keras import Model\n",
        "from tensorflow.keras.applications.inception_v3 import InceptionV3\n",
        "\n",
        "local_weights_file = '/tmp/inception_v3_weights_tf_dim_ordering_tf_kernels_notop.h5'\n",
        "\n",
        "pre_trained_model = InceptionV3(input_shape=(150, 150, 3),\n",
        "                                include_top=False,\n",
        "                                weights=None)\n",
        "\n",
        "pre_trained_model.load_weights(local_weights_file)\n",
        "\n",
        "for ls in pre_trained_model.layers:\n",
        "  ls.trainable = False\n",
        "\n",
        "pre_trained_model.summary()"
      ],
      "metadata": {
        "id": "znvvbh1G60Z4"
      },
      "execution_count": null,
      "outputs": []
    },
    {
      "cell_type": "code",
      "source": [
        "last_layer = pre_trained_model.get_layer('mixed7')\n",
        "print('last layer output shepe: ', last_layer.output.shape)\n",
        "last_output = last_layer.output"
      ],
      "metadata": {
        "colab": {
          "base_uri": "https://localhost:8080/"
        },
        "id": "eJGWRhp29ak5",
        "outputId": "9d7fb55c-9b82-4ccb-dd2e-425b3485e4f4"
      },
      "execution_count": 17,
      "outputs": [
        {
          "output_type": "stream",
          "name": "stdout",
          "text": [
            "last layer output shepe:  (None, 7, 7, 768)\n"
          ]
        }
      ]
    },
    {
      "cell_type": "markdown",
      "source": [
        "모델 구성"
      ],
      "metadata": {
        "id": "o0YHbDR0_W92"
      }
    },
    {
      "cell_type": "code",
      "source": [
        "from tensorflow.keras.optimizers import RMSprop\n",
        "\n",
        "x = layers.Flatten()(last_output)\n",
        "x = layers.Dense(1024, activation='relu')(x)\n",
        "x = layers.Dense(1, activation='sigmoid')(x)\n",
        "\n",
        "model = Model(pre_trained_model.input, x)\n",
        "\n",
        "model.compile(optimizer=RMSprop(learning_rate=0.0001),\n",
        "              loss='binary_crossentropy',\n",
        "              metrics=['accuracy'])"
      ],
      "metadata": {
        "id": "13ArajII_V6z"
      },
      "execution_count": 18,
      "outputs": []
    },
    {
      "cell_type": "markdown",
      "source": [
        "학습 데이터 가져오기"
      ],
      "metadata": {
        "id": "aD_TaCn3-WFP"
      }
    },
    {
      "cell_type": "code",
      "source": [
        "!wget --no-check-certificate \\\n",
        "        https://storage.googleapis.com/mledu-datasets/cats_and_dogs_filtered.zip \\\n",
        "       -O /tmp/cats_and_dogs_filtered.zip\n",
        "\n",
        "import os\n",
        "import zipfile\n",
        "\n",
        "local_zip = '/tmp/cats_and_dogs_filtered.zip'\n",
        "\n",
        "zip_ref = zipfile.ZipFile(local_zip, 'r')\n",
        "zip_ref.extractall('/tmp')\n",
        "zip_ref.close()\n"
      ],
      "metadata": {
        "colab": {
          "base_uri": "https://localhost:8080/"
        },
        "id": "IlxlwPHU9yqT",
        "outputId": "0caa95e6-1c5c-4bb7-957c-3cc5aa31920b"
      },
      "execution_count": 6,
      "outputs": [
        {
          "output_type": "stream",
          "name": "stdout",
          "text": [
            "--2022-01-25 16:01:28--  https://storage.googleapis.com/mledu-datasets/cats_and_dogs_filtered.zip\n",
            "Resolving storage.googleapis.com (storage.googleapis.com)... 142.251.16.128, 172.217.2.112, 142.251.45.16, ...\n",
            "Connecting to storage.googleapis.com (storage.googleapis.com)|142.251.16.128|:443... connected.\n",
            "HTTP request sent, awaiting response... 200 OK\n",
            "Length: 68606236 (65M) [application/zip]\n",
            "Saving to: ‘/tmp/cats_and_dogs_filtered.zip’\n",
            "\n",
            "/tmp/cats_and_dogs_ 100%[===================>]  65.43M   104MB/s    in 0.6s    \n",
            "\n",
            "2022-01-25 16:01:29 (104 MB/s) - ‘/tmp/cats_and_dogs_filtered.zip’ saved [68606236/68606236]\n",
            "\n"
          ]
        }
      ]
    },
    {
      "cell_type": "markdown",
      "source": [
        "데이터 어그멘테이션"
      ],
      "metadata": {
        "id": "8e48Nsm3-YQh"
      }
    },
    {
      "cell_type": "code",
      "source": [
        "from tensorflow.keras.preprocessing.image import ImageDataGenerator\n",
        "\n",
        "base_dir = '../tmp/cats_and_dogs_filtered'\n",
        "\n",
        "train_dir = os.path.join(base_dir, 'train')\n",
        "validation_dir = os.path.join(base_dir, 'validation')\n",
        "\n",
        "train_cats_dir = os.path.join(train_dir, 'cats')\n",
        "train_dogs_dir = os.path.join(train_dir, 'dogs')\n",
        "validation_cats_dir = os.path.join(validation_dir, 'cats')\n",
        "validation_dogs_dir = os.path.join(validation_dir, 'dogs')\n",
        "\n",
        "train_cat_fnames = os.listdir(train_cats_dir)\n",
        "train_dog_fnames = os.listdir(train_dogs_dir)\n",
        "\n",
        "train_datagen = ImageDataGenerator(rescale=1.0/255,\n",
        "                                   rotation_range=40,\n",
        "                                   width_shift_range=0.2,\n",
        "                                   height_shift_range=0.2,\n",
        "                                   shear_range=0.2,\n",
        "                                   zoom_range=0.2,\n",
        "                                   horizontal_flip=True,\n",
        "                                   fill_mode='nearest')\n",
        "\n",
        "test_datagen = ImageDataGenerator(rescale=1.0/255)\n",
        "\n",
        "train_generator = train_datagen.flow_from_directory(train_dir,\n",
        "                                                    batch_size=20,\n",
        "                                                    class_mode='binary',\n",
        "                                                    target_size=(150, 150))\n",
        "validation_generator = test_datagen.flow_from_directory(validation_dir,\n",
        "                                                        batch_size=20,\n",
        "                                                        class_mode='binary',\n",
        "                                                        target_size=(150, 150))"
      ],
      "metadata": {
        "colab": {
          "base_uri": "https://localhost:8080/"
        },
        "id": "ljdB-MEa-aJd",
        "outputId": "528080b2-b5db-4fdf-e045-b384e80cc352"
      },
      "execution_count": 10,
      "outputs": [
        {
          "output_type": "stream",
          "name": "stdout",
          "text": [
            "Found 2000 images belonging to 2 classes.\n",
            "Found 1000 images belonging to 2 classes.\n"
          ]
        }
      ]
    },
    {
      "cell_type": "markdown",
      "source": [
        "모델 훈련"
      ],
      "metadata": {
        "id": "BYIDTvaI_FZC"
      }
    },
    {
      "cell_type": "code",
      "source": [
        "history = model.fit(\n",
        "    train_generator,\n",
        "    validation_data=validation_generator,\n",
        "    steps_per_epoch=100,\n",
        "    epochs=20,\n",
        "    validation_steps=50,\n",
        "    verbose=2\n",
        ")"
      ],
      "metadata": {
        "colab": {
          "base_uri": "https://localhost:8080/"
        },
        "id": "b7-I2ONa_Gw2",
        "outputId": "ca626edf-bff7-484e-de22-3db9efeb6d4a"
      },
      "execution_count": 19,
      "outputs": [
        {
          "output_type": "stream",
          "name": "stdout",
          "text": [
            "Epoch 1/20\n",
            "100/100 - 209s - loss: 0.3489 - accuracy: 0.8605 - val_loss: 0.1243 - val_accuracy: 0.9530 - 209s/epoch - 2s/step\n",
            "Epoch 2/20\n",
            "100/100 - 186s - loss: 0.2239 - accuracy: 0.9100 - val_loss: 0.1541 - val_accuracy: 0.9430 - 186s/epoch - 2s/step\n",
            "Epoch 3/20\n",
            "100/100 - 143s - loss: 0.2057 - accuracy: 0.9165 - val_loss: 0.1063 - val_accuracy: 0.9550 - 143s/epoch - 1s/step\n",
            "Epoch 4/20\n",
            "100/100 - 138s - loss: 0.1763 - accuracy: 0.9330 - val_loss: 0.0944 - val_accuracy: 0.9640 - 138s/epoch - 1s/step\n",
            "Epoch 5/20\n",
            "100/100 - 139s - loss: 0.1726 - accuracy: 0.9345 - val_loss: 0.1091 - val_accuracy: 0.9610 - 139s/epoch - 1s/step\n",
            "Epoch 6/20\n",
            "100/100 - 139s - loss: 0.1469 - accuracy: 0.9425 - val_loss: 0.1370 - val_accuracy: 0.9540 - 139s/epoch - 1s/step\n",
            "Epoch 7/20\n",
            "100/100 - 138s - loss: 0.1434 - accuracy: 0.9525 - val_loss: 0.1258 - val_accuracy: 0.9560 - 138s/epoch - 1s/step\n",
            "Epoch 8/20\n",
            "100/100 - 139s - loss: 0.1445 - accuracy: 0.9440 - val_loss: 0.1153 - val_accuracy: 0.9620 - 139s/epoch - 1s/step\n",
            "Epoch 9/20\n",
            "100/100 - 139s - loss: 0.1640 - accuracy: 0.9440 - val_loss: 0.1080 - val_accuracy: 0.9640 - 139s/epoch - 1s/step\n",
            "Epoch 10/20\n",
            "100/100 - 139s - loss: 0.1436 - accuracy: 0.9515 - val_loss: 0.0955 - val_accuracy: 0.9690 - 139s/epoch - 1s/step\n",
            "Epoch 11/20\n",
            "100/100 - 139s - loss: 0.1394 - accuracy: 0.9490 - val_loss: 0.1157 - val_accuracy: 0.9620 - 139s/epoch - 1s/step\n",
            "Epoch 12/20\n",
            "100/100 - 139s - loss: 0.1465 - accuracy: 0.9435 - val_loss: 0.1005 - val_accuracy: 0.9680 - 139s/epoch - 1s/step\n",
            "Epoch 13/20\n",
            "100/100 - 139s - loss: 0.1300 - accuracy: 0.9535 - val_loss: 0.1105 - val_accuracy: 0.9660 - 139s/epoch - 1s/step\n",
            "Epoch 14/20\n",
            "100/100 - 138s - loss: 0.1150 - accuracy: 0.9540 - val_loss: 0.1119 - val_accuracy: 0.9690 - 138s/epoch - 1s/step\n",
            "Epoch 15/20\n",
            "100/100 - 138s - loss: 0.1435 - accuracy: 0.9525 - val_loss: 0.1171 - val_accuracy: 0.9710 - 138s/epoch - 1s/step\n",
            "Epoch 16/20\n",
            "100/100 - 137s - loss: 0.1169 - accuracy: 0.9570 - val_loss: 0.1193 - val_accuracy: 0.9690 - 137s/epoch - 1s/step\n",
            "Epoch 17/20\n",
            "100/100 - 137s - loss: 0.1095 - accuracy: 0.9625 - val_loss: 0.1298 - val_accuracy: 0.9660 - 137s/epoch - 1s/step\n",
            "Epoch 18/20\n",
            "100/100 - 138s - loss: 0.1230 - accuracy: 0.9610 - val_loss: 0.1258 - val_accuracy: 0.9650 - 138s/epoch - 1s/step\n",
            "Epoch 19/20\n",
            "100/100 - 138s - loss: 0.1294 - accuracy: 0.9580 - val_loss: 0.1220 - val_accuracy: 0.9650 - 138s/epoch - 1s/step\n",
            "Epoch 20/20\n",
            "100/100 - 137s - loss: 0.0837 - accuracy: 0.9660 - val_loss: 0.1289 - val_accuracy: 0.9710 - 137s/epoch - 1s/step\n"
          ]
        }
      ]
    },
    {
      "cell_type": "code",
      "source": [
        "import matplotlib.pyplot as plt\n",
        "\n",
        "acc = history.history['accuracy']\n",
        "val_acc = history.history['val_accuracy']\n",
        "loss = history.history['loss']\n",
        "val_loss = history.history['val_loss']\n",
        "\n",
        "epochs = range(len(acc))\n",
        "\n",
        "plt.plot(epochs, acc, 'r', label='Training accuracy')\n",
        "plt.plot(epochs, val_acc, 'b', label='Validation accuracy')\n",
        "plt.legend(loc=0)\n",
        "plt.figure()\n",
        "plt.show()"
      ],
      "metadata": {
        "colab": {
          "base_uri": "https://localhost:8080/",
          "height": 284
        },
        "id": "KYHGbAAwBbh-",
        "outputId": "cced4c63-3520-4d65-bcd5-5ffd8d32841c"
      },
      "execution_count": 20,
      "outputs": [
        {
          "output_type": "display_data",
          "data": {
            "image/png": "[encoded data removed]",
            "text/plain": [
              "<Figure size 432x288 with 1 Axes>"
            ]
          },
          "metadata": {
            "needs_background": "light"
          }
        },
        {
          "output_type": "display_data",
          "data": {
            "text/plain": [
              "<Figure size 432x288 with 0 Axes>"
            ]
          },
          "metadata": {}
        }
      ]
    }
  ]
}